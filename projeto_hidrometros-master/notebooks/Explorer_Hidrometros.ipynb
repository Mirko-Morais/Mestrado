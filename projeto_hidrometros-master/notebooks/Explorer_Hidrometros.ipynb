{
 "cells": [
  {
   "cell_type": "markdown",
   "metadata": {},
   "source": [
    "# Análise exploratória hidrometros \n",
    "\n",
    "## População : Hidrometros com troca em **2017**\n",
    "\n",
    "## [Seaborn | Gráficos](https://seaborn.pydata.org/)\n",
    "\n",
    "## [Pandas | Data Munging](https://pandas.pydata.org/)"
   ]
  },
  {
   "cell_type": "code",
   "execution_count": 2,
   "metadata": {},
   "outputs": [
    {
     "ename": "ImportError",
     "evalue": "No module named 'pdmunging'",
     "output_type": "error",
     "traceback": [
      "\u001b[0;31m---------------------------------------------------------------------------\u001b[0m",
      "\u001b[0;31mImportError\u001b[0m                               Traceback (most recent call last)",
      "\u001b[0;32m<ipython-input-2-2cff6428157a>\u001b[0m in \u001b[0;36m<module>\u001b[0;34m\u001b[0m\n\u001b[1;32m      1\u001b[0m \u001b[0;32mimport\u001b[0m \u001b[0mwarnings\u001b[0m \u001b[0;34m;\u001b[0m \u001b[0mwarnings\u001b[0m\u001b[0;34m.\u001b[0m\u001b[0mfilterwarnings\u001b[0m\u001b[0;34m(\u001b[0m\u001b[0;34m\"ignore\"\u001b[0m\u001b[0;34m,\u001b[0m \u001b[0mcategory\u001b[0m\u001b[0;34m=\u001b[0m\u001b[0mRuntimeWarning\u001b[0m\u001b[0;34m)\u001b[0m\u001b[0;34m\u001b[0m\u001b[0m\n\u001b[1;32m      2\u001b[0m \u001b[0;32mimport\u001b[0m \u001b[0msys\u001b[0m \u001b[0;34m;\u001b[0m \u001b[0msys\u001b[0m\u001b[0;34m.\u001b[0m\u001b[0mpath\u001b[0m\u001b[0;34m.\u001b[0m\u001b[0mappend\u001b[0m\u001b[0;34m(\u001b[0m\u001b[0;34m'../scripts'\u001b[0m\u001b[0;34m)\u001b[0m\u001b[0;34m\u001b[0m\u001b[0m\n\u001b[0;32m----> 3\u001b[0;31m \u001b[0;32mimport\u001b[0m \u001b[0mpdmunging\u001b[0m \u001b[0;32mas\u001b[0m \u001b[0mpdm\u001b[0m\u001b[0;34m\u001b[0m\u001b[0m\n\u001b[0m",
      "\u001b[0;31mImportError\u001b[0m: No module named 'pdmunging'"
     ]
    }
   ],
   "source": [
    "import warnings ; warnings.filterwarnings(\"ignore\", category=RuntimeWarning) \n",
    "import sys ; sys.path.append('../scripts')\n",
    "import pdmunging as pdm"
   ]
  },
  {
   "cell_type": "code",
   "execution_count": 38,
   "metadata": {},
   "outputs": [],
   "source": [
    "import pandas as pd\n",
    "import numpy as np\n",
    "import matplotlib.pyplot as plt\n",
    "import seaborn as sns\n",
    "import sqlite3 as sql\n",
    "plt.style.use(['seaborn-whitegrid','tableau-colorblind10'])\n",
    "plt.rcParams['font.family'] = 'serif'\n",
    "plt.rcParams['font.serif'] = 'Ubuntu'\n",
    "plt.rcParams['font.monospace'] = 'Ubuntu Mono'\n",
    "plt.rcParams['font.size'] = 16\n",
    "plt.rcParams['axes.labelsize'] = 16\n",
    "plt.rcParams['axes.labelweight'] = 'bold'\n",
    "plt.rcParams['xtick.labelsize'] = 16\n",
    "plt.rcParams['ytick.labelsize'] = 16\n",
    "plt.rcParams['legend.fontsize'] = 16\n",
    "plt.rcParams['figure.titlesize'] = 18"
   ]
  },
  {
   "cell_type": "code",
   "execution_count": 1,
   "metadata": {},
   "outputs": [
    {
     "ename": "NameError",
     "evalue": "name 'pd' is not defined",
     "output_type": "error",
     "traceback": [
      "\u001b[0;31m---------------------------------------------------------------------------\u001b[0m",
      "\u001b[0;31mNameError\u001b[0m                                 Traceback (most recent call last)",
      "\u001b[0;32m<ipython-input-1-491794ae29b7>\u001b[0m in \u001b[0;36m<module>\u001b[0;34m()\u001b[0m\n\u001b[0;32m----> 1\u001b[0;31m \u001b[0mdf\u001b[0m \u001b[0;34m=\u001b[0m \u001b[0mpd\u001b[0m\u001b[0;34m.\u001b[0m\u001b[0mread_csv\u001b[0m\u001b[0;34m(\u001b[0m\u001b[0;34m'../data/dataset_substituicoes_2017.csv'\u001b[0m\u001b[0;34m,\u001b[0m                 \u001b[0mparse_dates\u001b[0m\u001b[0;34m=\u001b[0m\u001b[0;34m[\u001b[0m\u001b[0;34m'REL_DAT_SUBSTITUICAO'\u001b[0m\u001b[0;34m,\u001b[0m \u001b[0;34m'REL_DAT_INS_ANTERIOR'\u001b[0m\u001b[0;34m,\u001b[0m \u001b[0;34m'REL_DAT_INSTALACAO'\u001b[0m\u001b[0;34m]\u001b[0m\u001b[0;34m,\u001b[0m                 \u001b[0mdecimal\u001b[0m\u001b[0;34m=\u001b[0m\u001b[0;34m','\u001b[0m\u001b[0;34m,\u001b[0m \u001b[0mthousands\u001b[0m\u001b[0;34m=\u001b[0m\u001b[0;34m'.'\u001b[0m\u001b[0;34m)\u001b[0m\u001b[0;34m\u001b[0m\u001b[0m\n\u001b[0m",
      "\u001b[0;31mNameError\u001b[0m: name 'pd' is not defined"
     ]
    }
   ],
   "source": [
    "df = pd.read_csv('../data/dataset_substituicoes_2017.csv',\\\n",
    "                 parse_dates=['REL_DAT_SUBSTITUICAO', 'REL_DAT_INS_ANTERIOR', 'REL_DAT_INSTALACAO'],\\\n",
    "                 decimal=',', thousands='.')"
   ]
  },
  {
   "cell_type": "code",
   "execution_count": 4,
   "metadata": {},
   "outputs": [
    {
     "data": {
      "text/html": [
       "<div>\n",
       "<style scoped>\n",
       "    .dataframe tbody tr th:only-of-type {\n",
       "        vertical-align: middle;\n",
       "    }\n",
       "\n",
       "    .dataframe tbody tr th {\n",
       "        vertical-align: top;\n",
       "    }\n",
       "\n",
       "    .dataframe thead th {\n",
       "        text-align: right;\n",
       "    }\n",
       "</style>\n",
       "<table border=\"1\" class=\"dataframe\">\n",
       "  <thead>\n",
       "    <tr style=\"text-align: right;\">\n",
       "      <th></th>\n",
       "      <th>REL_SEQ_DESEMPENHO_MEDIDOR</th>\n",
       "      <th>REL_SLG_UNIDADE_ADMIN</th>\n",
       "      <th>REL_COD_UNIDADE_ADMIN</th>\n",
       "      <th>REL_SLG_UNIDADE_ADMIN_DES</th>\n",
       "      <th>REL_COD_UNIDADE_ADMIN_DES</th>\n",
       "      <th>REL_LGE_DSC_LOCAL</th>\n",
       "      <th>REL_QTD_RESIDENCIAL</th>\n",
       "      <th>REL_QTD_COMERCIAL</th>\n",
       "      <th>REL_QTD_INDUSTRIAL</th>\n",
       "      <th>REL_QTD_PUBLICA</th>\n",
       "      <th>...</th>\n",
       "      <th>REL_FLG_PROCESSADO</th>\n",
       "      <th>REL_DAT_SUBSTITUICAO</th>\n",
       "      <th>REL_NUM_SETOR</th>\n",
       "      <th>REL_NUM_QUADRA</th>\n",
       "      <th>REL_SEQ_MARCA_MEDIDOR</th>\n",
       "      <th>REL_SEQ_CAPACIDADE_MEDIDOR</th>\n",
       "      <th>REL_SEQ_MOTIVO_RETIRADA</th>\n",
       "      <th>REL_SEQ_SERVICO</th>\n",
       "      <th>REL_DAT_INS_ANTERIOR</th>\n",
       "      <th>REL_IDADE_MEDIDOR</th>\n",
       "    </tr>\n",
       "  </thead>\n",
       "  <tbody>\n",
       "    <tr>\n",
       "      <th>0</th>\n",
       "      <td>1317755</td>\n",
       "      <td>UN-MTL</td>\n",
       "      <td>45</td>\n",
       "      <td>UN-MTL</td>\n",
       "      <td>45</td>\n",
       "      <td>FORTALEZA</td>\n",
       "      <td>1</td>\n",
       "      <td>0</td>\n",
       "      <td>0</td>\n",
       "      <td>0</td>\n",
       "      <td>...</td>\n",
       "      <td>1</td>\n",
       "      <td>2017-01-26</td>\n",
       "      <td>12</td>\n",
       "      <td>68</td>\n",
       "      <td>10</td>\n",
       "      <td>3</td>\n",
       "      <td>15</td>\n",
       "      <td>31051</td>\n",
       "      <td>2016-01-15</td>\n",
       "      <td>1.0</td>\n",
       "    </tr>\n",
       "    <tr>\n",
       "      <th>1</th>\n",
       "      <td>1317964</td>\n",
       "      <td>UN-MTL</td>\n",
       "      <td>45</td>\n",
       "      <td>UN-MTL</td>\n",
       "      <td>45</td>\n",
       "      <td>FORTALEZA</td>\n",
       "      <td>1</td>\n",
       "      <td>0</td>\n",
       "      <td>0</td>\n",
       "      <td>0</td>\n",
       "      <td>...</td>\n",
       "      <td>1</td>\n",
       "      <td>2017-01-25</td>\n",
       "      <td>23</td>\n",
       "      <td>215</td>\n",
       "      <td>10</td>\n",
       "      <td>3</td>\n",
       "      <td>3</td>\n",
       "      <td>31051</td>\n",
       "      <td>2009-11-30</td>\n",
       "      <td>8.0</td>\n",
       "    </tr>\n",
       "  </tbody>\n",
       "</table>\n",
       "<p>2 rows × 74 columns</p>\n",
       "</div>"
      ],
      "text/plain": [
       "   REL_SEQ_DESEMPENHO_MEDIDOR REL_SLG_UNIDADE_ADMIN  REL_COD_UNIDADE_ADMIN  \\\n",
       "0                     1317755                UN-MTL                     45   \n",
       "1                     1317964                UN-MTL                     45   \n",
       "\n",
       "  REL_SLG_UNIDADE_ADMIN_DES  REL_COD_UNIDADE_ADMIN_DES REL_LGE_DSC_LOCAL  \\\n",
       "0                    UN-MTL                         45         FORTALEZA   \n",
       "1                    UN-MTL                         45         FORTALEZA   \n",
       "\n",
       "   REL_QTD_RESIDENCIAL  REL_QTD_COMERCIAL  REL_QTD_INDUSTRIAL  \\\n",
       "0                    1                  0                   0   \n",
       "1                    1                  0                   0   \n",
       "\n",
       "   REL_QTD_PUBLICA        ...         REL_FLG_PROCESSADO REL_DAT_SUBSTITUICAO  \\\n",
       "0                0        ...                          1           2017-01-26   \n",
       "1                0        ...                          1           2017-01-25   \n",
       "\n",
       "  REL_NUM_SETOR REL_NUM_QUADRA REL_SEQ_MARCA_MEDIDOR  \\\n",
       "0            12             68                    10   \n",
       "1            23            215                    10   \n",
       "\n",
       "   REL_SEQ_CAPACIDADE_MEDIDOR REL_SEQ_MOTIVO_RETIRADA  REL_SEQ_SERVICO  \\\n",
       "0                           3                      15            31051   \n",
       "1                           3                       3            31051   \n",
       "\n",
       "   REL_DAT_INS_ANTERIOR  REL_IDADE_MEDIDOR  \n",
       "0            2016-01-15                1.0  \n",
       "1            2009-11-30                8.0  \n",
       "\n",
       "[2 rows x 74 columns]"
      ]
     },
     "execution_count": 4,
     "metadata": {},
     "output_type": "execute_result"
    }
   ],
   "source": [
    "df.head(2)"
   ]
  },
  {
   "cell_type": "markdown",
   "metadata": {},
   "source": [
    "### Valores nulos"
   ]
  },
  {
   "cell_type": "code",
   "execution_count": 5,
   "metadata": {},
   "outputs": [
    {
     "data": {
      "text/plain": [
       "REL_TIPO_TARIFA                   1.000000\n",
       "REL_NUM_FAIXA                     1.000000\n",
       "REL_SEQ_CFA_CODIGO_FATURAMENTO    0.609212\n",
       "REL_IDADE_MEDIDOR                 0.000262\n",
       "dtype: float64"
      ]
     },
     "execution_count": 5,
     "metadata": {},
     "output_type": "execute_result"
    }
   ],
   "source": [
    "#a = 1-(df.count()/len(df))\n",
    "#a[a!=0]\n",
    "# or \n",
    "pdm.null_values(df)"
   ]
  },
  {
   "cell_type": "code",
   "execution_count": null,
   "metadata": {},
   "outputs": [],
   "source": [
    "# Colunas a desconsiderar : REL_TIPO_TARIFA, REL_NUM_FAIXA.\n",
    "# Eliminar as nulas em REL_SEQ_CFA_CODIGO_FATURAMENTO.\n",
    "df[['REL_TIPO_TARIFA','REL_NUM_FAIXA', 'REL_SEQ_CFA_CODIGO_FATURAMENTO', 'REL_IDADE_MEDIDOR' ]].head(2)"
   ]
  },
  {
   "cell_type": "code",
   "execution_count": null,
   "metadata": {},
   "outputs": [],
   "source": [
    "# A grande maioria de nossos hidrometros é trocado no periodo de 8 a 10 anos.\n",
    "sns.catplot(y=\"REL_IDADE_MEDIDOR\",\n",
    "             height=7,\n",
    "            kind=\"count\", data=df);"
   ]
  },
  {
   "cell_type": "code",
   "execution_count": null,
   "metadata": {},
   "outputs": [],
   "source": [
    "df.shape"
   ]
  },
  {
   "cell_type": "code",
   "execution_count": null,
   "metadata": {},
   "outputs": [],
   "source": [
    "df.info()"
   ]
  },
  {
   "cell_type": "code",
   "execution_count": null,
   "metadata": {},
   "outputs": [],
   "source": [
    "# Reduzir amostra para fortaleza , para adcionar setores de abastecimento\n",
    "# Fortaleza representa mais de 50% das trocas efetuadas no ano.\n",
    "# Total Municipios : 255\n",
    "#set(df['REL_LGE_DSC_LOCAL'])\n",
    "len(set(df['REL_LGE_DSC_LOCAL']))"
   ]
  },
  {
   "cell_type": "code",
   "execution_count": null,
   "metadata": {},
   "outputs": [],
   "source": [
    "# municipios que representam mais de 4% das trocas\n",
    "df3 = df.groupby(['REL_LGE_DSC_LOCAL'])['REL_LGE_DSC_LOCAL'].count().sort_values()/len(df)\n",
    "df3[df3>0.04]"
   ]
  },
  {
   "cell_type": "code",
   "execution_count": null,
   "metadata": {},
   "outputs": [],
   "source": [
    "# quantidades dos municipios\n",
    "df2 = df.groupby(['REL_LGE_DSC_LOCAL'])['REL_LGE_DSC_LOCAL'].count().sort_values()\n",
    "df2[df2>2447]"
   ]
  },
  {
   "cell_type": "code",
   "execution_count": null,
   "metadata": {},
   "outputs": [],
   "source": [
    "#Exportar\n",
    "df[df['REL_LGE_DSC_LOCAL'] == 'FORTALEZA']['REL_INSCRICAO'].to_csv('inscricoes_fortaleza.csv')"
   ]
  },
  {
   "cell_type": "code",
   "execution_count": null,
   "metadata": {},
   "outputs": [],
   "source": [
    "# Populacao amostral das trocas efetuadas em fortaleza\n",
    "# Residenciais nao mistos\n",
    "# servico 44349 = 336\n",
    "# shape 2017 = (32172, 74)\n",
    "df_ = df[(df['REL_LGE_DSC_LOCAL'] == 'FORTALEZA')&\\\n",
    "   (df['REL_QTD_RESIDENCIAL'] > 0)&\\\n",
    "   (df['REL_QTD_COMERCIAL'] == 0)&\\\n",
    "   (df['REL_QTD_INDUSTRIAL'] == 0)&\\\n",
    "   (df['REL_QTD_PUBLICA'] == 0)&\\\n",
    "   (df['REL_SEQ_SERVICO'] == 44349)\n",
    "  ].copy()\n",
    "df_.shape"
   ]
  },
  {
   "cell_type": "code",
   "execution_count": null,
   "metadata": {},
   "outputs": [],
   "source": [
    "# df_['REL_INSCRICAO'].to_csv('inscricoes_fortaleza.csv')"
   ]
  },
  {
   "cell_type": "markdown",
   "metadata": {},
   "source": [
    "# ANALISE DO DATASET APLICADO REGRAS E RECORTE AMOSTRAL"
   ]
  },
  {
   "cell_type": "markdown",
   "metadata": {},
   "source": [
    "### TRATAMENTO DOS DADOS"
   ]
  },
  {
   "cell_type": "code",
   "execution_count": 3,
   "metadata": {},
   "outputs": [],
   "source": [
    "#df_.to_csv('dataset_substituicoes_2017_AMOSTRA1.csv', index=False)\n",
    "df_ = pd.read_csv('dataset_substituicoes_2017_AMOSTRA1.csv', parse_dates=['REL_DAT_SUBSTITUICAO', 'REL_DAT_INS_ANTERIOR', 'REL_DAT_INSTALACAO'])"
   ]
  },
  {
   "cell_type": "code",
   "execution_count": 4,
   "metadata": {},
   "outputs": [
    {
     "data": {
      "text/plain": [
       "(32150, 52)"
      ]
     },
     "execution_count": 4,
     "metadata": {},
     "output_type": "execute_result"
    }
   ],
   "source": [
    "# ELIMINO COLUNAS INICALMENTE DESNECESSARIAS\n",
    "# ELIMINOS VALORES NA\n",
    "df_.drop(columns=['REL_QTD_PUBLICA',\\\n",
    "                  'REL_QTD_INDUSTRIAL',\\\n",
    "                  'REL_QTD_COMERCIAL',\\\n",
    "                  'REL_NOM_CLIENTE',\\\n",
    "                  'REL_ENDERECO',\\\n",
    "                  'REL_SEQ_SERVICO',\\\n",
    "                  'REL_LGE_DSC_LOCAL',\\\n",
    "                  'REL_TIPO_TARIFA',\\\n",
    "                  'REL_CODIFICACAO',\\\n",
    "                  'REL_COD_UNIDADE_ADMIN_DES',\\\n",
    "                  'REL_SLG_UNIDADE_ADMIN_DES',\\\n",
    "                  'REL_SEQ_CFA_CODIGO_FATURAMENTO',\\\n",
    "                  'REL_FLG_PROCESSADO',\\\n",
    "                  'REL_VOLUME_MEDIO_3',  'REL_VOLUME_MEDIO_6', 'REL_VOLUME_MEDIO_12',\\\n",
    "                  'REL_VOLUME_MEDIO_24', 'REL_VOLUME_MEDIO_1MES_3', 'REL_VOLUME_MEDIO_1MES_6', 'REL_VOLUME_MEDIO_1MES_12',\\\n",
    "                  'REL_VOLUME_MEDIO_1MES_24',\\\n",
    "                  'REL_NUM_FAIXA']\n",
    "         ,inplace=True)\n",
    "df_.dropna(inplace=True)\n",
    "df_.shape"
   ]
  },
  {
   "cell_type": "code",
   "execution_count": 40,
   "metadata": {},
   "outputs": [
    {
     "data": {
      "text/plain": [
       "Index(['REL_SEQ_DESEMPENHO_MEDIDOR', 'REL_SLG_UNIDADE_ADMIN',\n",
       "       'REL_COD_UNIDADE_ADMIN', 'REL_QTD_RESIDENCIAL', 'REL_NUM_MEDIDOR',\n",
       "       'REL_NUM_MEDIDOR_ANT', 'REL_INSCRICAO', 'REL_DAT_INSTALACAO',\n",
       "       'REL_VLR_MEDIO_ATUAL_3', 'REL_VLR_MEDIO_ATUAL_6',\n",
       "       'REL_VLR_MEDIO_ATUAL_12', 'REL_VLR_MEDIO_ATUAL_24',\n",
       "       'REL_VLR_MEDIO_ATUAL_1MES_3', 'REL_VLR_MEDIO_ATUAL_1MES_6',\n",
       "       'REL_VLR_MEDIO_ATUAL_1MES_12', 'REL_VLR_MEDIO_ATUAL_1MES_24',\n",
       "       'REL_VLR_MEDIO_ANT_3', 'REL_VLR_MEDIO_ANT_6', 'REL_VLR_MEDIO_ANT_12',\n",
       "       'REL_VLR_MEDIO_ANT_24', 'REL_VLR_MEDIO_ANT_1MES_3',\n",
       "       'REL_VLR_MEDIO_ANT_1MES_6', 'REL_VLR_MEDIO_ANT_1MES_12',\n",
       "       'REL_VLR_MEDIO_ANT_1MES_24', 'REL_VOLUME_MED_ATUAL_3',\n",
       "       'REL_VOLUME_MED_ATUAL_6', 'REL_VOLUME_MED_ATUAL_12',\n",
       "       'REL_VOLUME_MED_ATUAL_24', 'REL_VOLUME_MED_ATUAL_1MES_3',\n",
       "       'REL_VOLUME_MED_ATUAL_1MES_6', 'REL_VOLUME_MED_ATUAL_1MES_12',\n",
       "       'REL_VOLUME_MED_ATUAL_1MES_24', 'REL_VOLUME_MED_ANT_3',\n",
       "       'REL_VOLUME_MED_ANT_6', 'REL_VOLUME_MED_ANT_12',\n",
       "       'REL_VOLUME_MED_ANT_24', 'REL_VOLUME_MED_ANT_1MES_3',\n",
       "       'REL_VOLUME_MED_ANT_1MES_6', 'REL_VOLUME_MED_ANT_1MES_12',\n",
       "       'REL_VOLUME_MED_ANT_1MES_24', 'REL_COMPETENCIA', 'REL_LGE_COD_SIG',\n",
       "       'REL_SEQ_INSTALACAO', 'REL_SEQ_INSTALACAO_ANT', 'REL_DAT_SUBSTITUICAO',\n",
       "       'REL_NUM_SETOR', 'REL_NUM_QUADRA', 'REL_SEQ_MARCA_MEDIDOR',\n",
       "       'REL_SEQ_CAPACIDADE_MEDIDOR', 'REL_SEQ_MOTIVO_RETIRADA',\n",
       "       'REL_DAT_INS_ANTERIOR', 'REL_IDADE_MEDIDOR'],\n",
       "      dtype='object')"
      ]
     },
     "execution_count": 40,
     "metadata": {},
     "output_type": "execute_result"
    }
   ],
   "source": [
    "# CABECALHO DO DATASET\n",
    "df_.columns"
   ]
  },
  {
   "cell_type": "markdown",
   "metadata": {},
   "source": [
    "### ANALISE EXPLORATORIA"
   ]
  },
  {
   "cell_type": "code",
   "execution_count": 41,
   "metadata": {},
   "outputs": [
    {
     "data": {
      "text/plain": [
       "<matplotlib.axes._subplots.AxesSubplot at 0x7f9a6b973b38>"
      ]
     },
     "execution_count": 41,
     "metadata": {},
     "output_type": "execute_result"
    },
    {
     "data": {
      "image/png": "[encoded data removed]",
      "text/plain": [
       "<Figure size 720x360 with 1 Axes>"
      ]
     },
     "metadata": {},
     "output_type": "display_data"
    }
   ],
   "source": [
    "plt.figure(figsize=(10, 5))\n",
    "plt.title(\"Trocas por idade - Fortaleza \")\n",
    "sns.countplot(x='REL_IDADE_MEDIDOR', data=df_, orient=\"h\")"
   ]
  },
  {
   "cell_type": "code",
   "execution_count": 6,
   "metadata": {},
   "outputs": [
    {
     "data": {
      "text/plain": [
       "<matplotlib.axes._subplots.AxesSubplot at 0x7f9a6c790e80>"
      ]
     },
     "execution_count": 6,
     "metadata": {},
     "output_type": "execute_result"
    },
    {
     "data": {
      "image/png": "[encoded data removed]",
      "text/plain": [
       "<Figure size 1080x432 with 1 Axes>"
      ]
     },
     "metadata": {},
     "output_type": "display_data"
    }
   ],
   "source": [
    "plt.figure(figsize=(15, 6))\n",
    "plt.title(\"Trocas por Marca\")\n",
    "sns.boxplot(x=\"REL_SEQ_MARCA_MEDIDOR\", y=\"REL_IDADE_MEDIDOR\", data=df_)"
   ]
  },
  {
   "cell_type": "code",
   "execution_count": 7,
   "metadata": {},
   "outputs": [
    {
     "data": {
      "text/plain": [
       "count    32150.000000\n",
       "mean         1.647869\n",
       "std          5.816222\n",
       "min          1.000000\n",
       "25%          1.000000\n",
       "50%          1.000000\n",
       "75%          1.000000\n",
       "max        240.000000\n",
       "Name: REL_QTD_RESIDENCIAL, dtype: float64"
      ]
     },
     "execution_count": 7,
     "metadata": {},
     "output_type": "execute_result"
    }
   ],
   "source": [
    "#Resumo estatistico da coluna\n",
    "df_['REL_QTD_RESIDENCIAL'].describe()"
   ]
  },
  {
   "cell_type": "code",
   "execution_count": 8,
   "metadata": {},
   "outputs": [
    {
     "data": {
      "text/plain": [
       "<matplotlib.axes._subplots.AxesSubplot at 0x7f9a6c2a1a20>"
      ]
     },
     "execution_count": 8,
     "metadata": {},
     "output_type": "execute_result"
    },
    {
     "data": {
      "image/png": "[encoded data removed]",
      "text/plain": [
       "<Figure size 720x360 with 1 Axes>"
      ]
     },
     "metadata": {},
     "output_type": "display_data"
    }
   ],
   "source": [
    "plt.figure(figsize=(10, 5))\n",
    "plt.title(\"Trocas por capacidade\")\n",
    "sns.countplot(x='REL_SEQ_CAPACIDADE_MEDIDOR', data=df_, orient=\"h\")"
   ]
  },
  {
   "cell_type": "code",
   "execution_count": 9,
   "metadata": {},
   "outputs": [
    {
     "data": {
      "text/plain": [
       "3    31645\n",
       "5      201\n",
       "6      172\n",
       "7      122\n",
       "8       10\n",
       "Name: REL_SEQ_CAPACIDADE_MEDIDOR, dtype: int64"
      ]
     },
     "execution_count": 9,
     "metadata": {},
     "output_type": "execute_result"
    }
   ],
   "source": [
    "df_['REL_SEQ_CAPACIDADE_MEDIDOR'].value_counts()"
   ]
  },
  {
   "cell_type": "code",
   "execution_count": 10,
   "metadata": {},
   "outputs": [
    {
     "data": {
      "text/plain": [
       "<matplotlib.axes._subplots.AxesSubplot at 0x7f9a694a5518>"
      ]
     },
     "execution_count": 10,
     "metadata": {},
     "output_type": "execute_result"
    },
    {
     "data": {
      "image/png": "[encoded data removed]",
      "text/plain": [
       "<Figure size 1800x720 with 1 Axes>"
      ]
     },
     "metadata": {},
     "output_type": "display_data"
    }
   ],
   "source": [
    "plt.figure(figsize=(25, 10))\n",
    "plt.title(\"Trocas por capacidade do medidor\")\n",
    "sns.boxplot(x=\"REL_SEQ_CAPACIDADE_MEDIDOR\", y=\"REL_IDADE_MEDIDOR\", data=df_)"
   ]
  },
  {
   "cell_type": "markdown",
   "metadata": {},
   "source": [
    "### MERGE DE DATAFRAMES "
   ]
  },
  {
   "cell_type": "code",
   "execution_count": 11,
   "metadata": {},
   "outputs": [],
   "source": [
    "# DATAFRAME COM DADOS DE ELEVACAO\n",
    "elevacao = pd.read_csv('../data/elevacao.csv')"
   ]
  },
  {
   "cell_type": "code",
   "execution_count": 12,
   "metadata": {},
   "outputs": [
    {
     "data": {
      "text/plain": [
       "latitude               0.0023\n",
       "longitude              0.0023\n",
       "elevacao               0.0023\n",
       "setor_abastecimento    0.0023\n",
       "dtype: float64"
      ]
     },
     "execution_count": 12,
     "metadata": {},
     "output_type": "execute_result"
    }
   ],
   "source": [
    "#CHAMA FUNCAO PARA VERIFICAR NULOS NO DATAFRAME\n",
    "pdm.null_values(elevacao)"
   ]
  },
  {
   "cell_type": "code",
   "execution_count": 13,
   "metadata": {},
   "outputs": [
    {
     "data": {
      "text/html": [
       "<div>\n",
       "<style scoped>\n",
       "    .dataframe tbody tr th:only-of-type {\n",
       "        vertical-align: middle;\n",
       "    }\n",
       "\n",
       "    .dataframe tbody tr th {\n",
       "        vertical-align: top;\n",
       "    }\n",
       "\n",
       "    .dataframe thead th {\n",
       "        text-align: right;\n",
       "    }\n",
       "</style>\n",
       "<table border=\"1\" class=\"dataframe\">\n",
       "  <thead>\n",
       "    <tr style=\"text-align: right;\">\n",
       "      <th></th>\n",
       "      <th>REL_SEQ_DESEMPENHO_MEDIDOR</th>\n",
       "      <th>REL_SLG_UNIDADE_ADMIN</th>\n",
       "      <th>REL_COD_UNIDADE_ADMIN</th>\n",
       "      <th>REL_QTD_RESIDENCIAL</th>\n",
       "      <th>REL_NUM_MEDIDOR</th>\n",
       "      <th>REL_NUM_MEDIDOR_ANT</th>\n",
       "      <th>REL_INSCRICAO</th>\n",
       "      <th>REL_DAT_INSTALACAO</th>\n",
       "      <th>REL_VLR_MEDIO_ATUAL_3</th>\n",
       "      <th>REL_VLR_MEDIO_ATUAL_6</th>\n",
       "      <th>...</th>\n",
       "      <th>REL_SEQ_MOTIVO_RETIRADA</th>\n",
       "      <th>REL_DAT_INS_ANTERIOR</th>\n",
       "      <th>REL_IDADE_MEDIDOR</th>\n",
       "      <th>fid</th>\n",
       "      <th>id</th>\n",
       "      <th>inscricoes</th>\n",
       "      <th>latitude</th>\n",
       "      <th>longitude</th>\n",
       "      <th>elevacao</th>\n",
       "      <th>setor_abastecimento</th>\n",
       "    </tr>\n",
       "  </thead>\n",
       "  <tbody>\n",
       "    <tr>\n",
       "      <th>0</th>\n",
       "      <td>1371049</td>\n",
       "      <td>UN-MTL</td>\n",
       "      <td>45</td>\n",
       "      <td>3</td>\n",
       "      <td>A16F260231</td>\n",
       "      <td>A07S089979</td>\n",
       "      <td>2019957</td>\n",
       "      <td>2017-01-21</td>\n",
       "      <td>87.31</td>\n",
       "      <td>98.18</td>\n",
       "      <td>...</td>\n",
       "      <td>2</td>\n",
       "      <td>2007-04-19</td>\n",
       "      <td>10.0</td>\n",
       "      <td>1</td>\n",
       "      <td>95</td>\n",
       "      <td>2019957</td>\n",
       "      <td>-3.774990</td>\n",
       "      <td>-38.482474</td>\n",
       "      <td>9.348175</td>\n",
       "      <td>10.0</td>\n",
       "    </tr>\n",
       "    <tr>\n",
       "      <th>1</th>\n",
       "      <td>1364626</td>\n",
       "      <td>UN-MTL</td>\n",
       "      <td>45</td>\n",
       "      <td>1</td>\n",
       "      <td>A17F000595</td>\n",
       "      <td>A08F499040</td>\n",
       "      <td>53155</td>\n",
       "      <td>2017-02-07</td>\n",
       "      <td>31.51</td>\n",
       "      <td>33.11</td>\n",
       "      <td>...</td>\n",
       "      <td>2</td>\n",
       "      <td>2009-02-16</td>\n",
       "      <td>8.0</td>\n",
       "      <td>2</td>\n",
       "      <td>164</td>\n",
       "      <td>53155</td>\n",
       "      <td>-3.731884</td>\n",
       "      <td>-38.519029</td>\n",
       "      <td>17.000000</td>\n",
       "      <td>17.0</td>\n",
       "    </tr>\n",
       "  </tbody>\n",
       "</table>\n",
       "<p>2 rows × 59 columns</p>\n",
       "</div>"
      ],
      "text/plain": [
       "   REL_SEQ_DESEMPENHO_MEDIDOR REL_SLG_UNIDADE_ADMIN  REL_COD_UNIDADE_ADMIN  \\\n",
       "0                     1371049                UN-MTL                     45   \n",
       "1                     1364626                UN-MTL                     45   \n",
       "\n",
       "   REL_QTD_RESIDENCIAL REL_NUM_MEDIDOR REL_NUM_MEDIDOR_ANT  REL_INSCRICAO  \\\n",
       "0                    3      A16F260231          A07S089979        2019957   \n",
       "1                    1      A17F000595          A08F499040          53155   \n",
       "\n",
       "  REL_DAT_INSTALACAO  REL_VLR_MEDIO_ATUAL_3  REL_VLR_MEDIO_ATUAL_6  \\\n",
       "0         2017-01-21                  87.31                  98.18   \n",
       "1         2017-02-07                  31.51                  33.11   \n",
       "\n",
       "          ...           REL_SEQ_MOTIVO_RETIRADA  REL_DAT_INS_ANTERIOR  \\\n",
       "0         ...                                 2            2007-04-19   \n",
       "1         ...                                 2            2009-02-16   \n",
       "\n",
       "   REL_IDADE_MEDIDOR  fid   id  inscricoes  latitude  longitude   elevacao  \\\n",
       "0               10.0    1   95     2019957 -3.774990 -38.482474   9.348175   \n",
       "1                8.0    2  164       53155 -3.731884 -38.519029  17.000000   \n",
       "\n",
       "   setor_abastecimento  \n",
       "0                 10.0  \n",
       "1                 17.0  \n",
       "\n",
       "[2 rows x 59 columns]"
      ]
     },
     "execution_count": 13,
     "metadata": {},
     "output_type": "execute_result"
    }
   ],
   "source": [
    "# UNE DATAFRAMES DE TROCAS COM ELEVACAO , EM SEGUIDA MOSTRA HEAD(2)\n",
    "df_mrg = pd.merge(df_, elevacao, left_on=\"REL_INSCRICAO\", right_on=\"inscricoes\" )\n",
    "df_mrg.head(2)"
   ]
  },
  {
   "cell_type": "code",
   "execution_count": 14,
   "metadata": {},
   "outputs": [
    {
     "data": {
      "text/plain": [
       "latitude               0.002301\n",
       "longitude              0.002301\n",
       "elevacao               0.002301\n",
       "setor_abastecimento    0.002301\n",
       "dtype: float64"
      ]
     },
     "execution_count": 14,
     "metadata": {},
     "output_type": "execute_result"
    }
   ],
   "source": [
    "# percentual de NaN por coluna\n",
    "pdm.null_values(df_mrg)"
   ]
  },
  {
   "cell_type": "code",
   "execution_count": 15,
   "metadata": {},
   "outputs": [],
   "source": [
    "# dropa NaN\n",
    "df_mrg.dropna(inplace=True)"
   ]
  },
  {
   "cell_type": "markdown",
   "metadata": {},
   "source": [
    "```python\n",
    "# IDENTIFICA VALORES NEGATIVOS NO DATAFRAME\n",
    "def negative_values(dataframe):\n",
    "    arrnegativos = []\n",
    "    for coluna in dataframe.columns:\n",
    "        considerar = ['int64', 'float64']\n",
    "        if dataframe[coluna].dtypes in considerar:\n",
    "            numnegativos = len(dataframe[dataframe[coluna]<0])\n",
    "            percentual = numnegativos/len(dataframe[coluna]) \n",
    "            if percentual > 0:\n",
    "                arrnegativos.append([coluna, len(dataframe[coluna]), numnegativos, percentual ])\n",
    "    return arrnegativos\n",
    "```"
   ]
  },
  {
   "cell_type": "code",
   "execution_count": 16,
   "metadata": {},
   "outputs": [
    {
     "data": {
      "text/plain": [
       "[['latitude', 32080, 32080, 1.0], ['longitude', 32080, 32080, 1.0]]"
      ]
     },
     "execution_count": 16,
     "metadata": {},
     "output_type": "execute_result"
    }
   ],
   "source": [
    "#verifica valores negativos\n",
    "#restam somente as colunas de lat, long que sao por natureza negativas em nossa regiao.\n",
    "pdm.negative_values(df_mrg)"
   ]
  },
  {
   "cell_type": "code",
   "execution_count": 17,
   "metadata": {},
   "outputs": [],
   "source": [
    "# MAPEIA COLUNA MOTIVO RETIRADA\n",
    "REL_SEQ_MOTIVO_RETIRADA_MAP = {2:'MANUTENCAO PREVENTIVA', 3: 'MANUTENCAO CORRETIVA', 4: 'PARA AFERICAO'}\n",
    "df_mrg['REL_SEQ_MOTIVO_RETIRADA_MAP'] = df_mrg.REL_SEQ_MOTIVO_RETIRADA.map(REL_SEQ_MOTIVO_RETIRADA_MAP)"
   ]
  },
  {
   "cell_type": "code",
   "execution_count": 1,
   "metadata": {},
   "outputs": [
    {
     "ename": "NameError",
     "evalue": "name 'df_mrg' is not defined",
     "output_type": "error",
     "traceback": [
      "\u001b[0;31m---------------------------------------------------------------------------\u001b[0m",
      "\u001b[0;31mNameError\u001b[0m                                 Traceback (most recent call last)",
      "\u001b[0;32m<ipython-input-1-931f2ab9a8d0>\u001b[0m in \u001b[0;36m<module>\u001b[0;34m()\u001b[0m\n\u001b[1;32m      6\u001b[0m         \u001b[0;32mreturn\u001b[0m \u001b[0;36m1900\u001b[0m\u001b[0;34m+\u001b[0m\u001b[0mdezena\u001b[0m\u001b[0;34m\u001b[0m\u001b[0m\n\u001b[1;32m      7\u001b[0m \u001b[0;34m\u001b[0m\u001b[0m\n\u001b[0;32m----> 8\u001b[0;31m \u001b[0mdf_mrg\u001b[0m\u001b[0;34m[\u001b[0m\u001b[0;34m'ANOHIDROMETRO'\u001b[0m\u001b[0;34m]\u001b[0m \u001b[0;34m=\u001b[0m \u001b[0mdf_mrg\u001b[0m\u001b[0;34m[\u001b[0m\u001b[0;34m'REL_NUM_MEDIDOR_ANT'\u001b[0m\u001b[0;34m]\u001b[0m\u001b[0;34m.\u001b[0m\u001b[0mapply\u001b[0m\u001b[0;34m(\u001b[0m\u001b[0;32mlambda\u001b[0m \u001b[0mx\u001b[0m\u001b[0;34m:\u001b[0m \u001b[0mint\u001b[0m\u001b[0;34m(\u001b[0m\u001b[0mx\u001b[0m\u001b[0;34m[\u001b[0m\u001b[0;36m1\u001b[0m\u001b[0;34m:\u001b[0m\u001b[0;36m3\u001b[0m\u001b[0;34m]\u001b[0m\u001b[0;34m)\u001b[0m\u001b[0;34m)\u001b[0m\u001b[0;34m\u001b[0m\u001b[0m\n\u001b[0m\u001b[1;32m      9\u001b[0m \u001b[0mdf_mrg\u001b[0m\u001b[0;34m[\u001b[0m\u001b[0;34m'ANOHIDROMETRO'\u001b[0m\u001b[0;34m]\u001b[0m \u001b[0;34m=\u001b[0m \u001b[0mdf_mrg\u001b[0m\u001b[0;34m[\u001b[0m\u001b[0;34m'ANOHIDROMETRO'\u001b[0m\u001b[0;34m]\u001b[0m\u001b[0;34m.\u001b[0m\u001b[0mapply\u001b[0m\u001b[0;34m(\u001b[0m\u001b[0mdezena_para_ano\u001b[0m\u001b[0;34m)\u001b[0m\u001b[0;34m\u001b[0m\u001b[0m\n",
      "\u001b[0;31mNameError\u001b[0m: name 'df_mrg' is not defined"
     ]
    }
   ],
   "source": [
    "# EXTRAI O ANO DO MEDIDOR\n",
    "def dezena_para_ano(dezena):\n",
    "    if dezena<20:\n",
    "        return 2000+dezena\n",
    "    else:\n",
    "        return 1900+dezena\n",
    "\n",
    "df_mrg['ANOHIDROMETRO'] = df_mrg['REL_NUM_MEDIDOR_ANT'].apply(lambda x: int(x[1:3]))\n",
    "df_mrg['ANOHIDROMETRO'] = df_mrg['ANOHIDROMETRO'].apply(dezena_para_ano)"
   ]
  },
  {
   "cell_type": "code",
   "execution_count": 19,
   "metadata": {},
   "outputs": [
    {
     "data": {
      "text/html": [
       "<div>\n",
       "<style scoped>\n",
       "    .dataframe tbody tr th:only-of-type {\n",
       "        vertical-align: middle;\n",
       "    }\n",
       "\n",
       "    .dataframe tbody tr th {\n",
       "        vertical-align: top;\n",
       "    }\n",
       "\n",
       "    .dataframe thead th {\n",
       "        text-align: right;\n",
       "    }\n",
       "</style>\n",
       "<table border=\"1\" class=\"dataframe\">\n",
       "  <thead>\n",
       "    <tr style=\"text-align: right;\">\n",
       "      <th></th>\n",
       "      <th>REL_NUM_MEDIDOR_ANT</th>\n",
       "      <th>REL_IDADE_MEDIDOR</th>\n",
       "      <th>REL_INSCRICAO</th>\n",
       "      <th>REL_SEQ_INSTALACAO_ANT</th>\n",
       "    </tr>\n",
       "  </thead>\n",
       "  <tbody>\n",
       "    <tr>\n",
       "      <th>5</th>\n",
       "      <td>A06F399129</td>\n",
       "      <td>11.0</td>\n",
       "      <td>3692329</td>\n",
       "      <td>3692329</td>\n",
       "    </tr>\n",
       "    <tr>\n",
       "      <th>9</th>\n",
       "      <td>A06F323939</td>\n",
       "      <td>11.0</td>\n",
       "      <td>10311394</td>\n",
       "      <td>10311394</td>\n",
       "    </tr>\n",
       "  </tbody>\n",
       "</table>\n",
       "</div>"
      ],
      "text/plain": [
       "  REL_NUM_MEDIDOR_ANT  REL_IDADE_MEDIDOR  REL_INSCRICAO  \\\n",
       "5          A06F399129               11.0        3692329   \n",
       "9          A06F323939               11.0       10311394   \n",
       "\n",
       "   REL_SEQ_INSTALACAO_ANT  \n",
       "5                 3692329  \n",
       "9                10311394  "
      ]
     },
     "execution_count": 19,
     "metadata": {},
     "output_type": "execute_result"
    }
   ],
   "source": [
    "# FILTRA HIDROMETROS TROCADOS COM IDADE >10\n",
    "df_mrg[df_mrg['REL_IDADE_MEDIDOR']>10][['REL_NUM_MEDIDOR_ANT','REL_IDADE_MEDIDOR', 'REL_INSCRICAO', 'REL_SEQ_INSTALACAO_ANT']].head(2)"
   ]
  },
  {
   "cell_type": "code",
   "execution_count": 20,
   "metadata": {},
   "outputs": [],
   "source": [
    "# IMPORTO E MAPEIO ULTIMOS STATUS DOS HIDROMETROS ATE 2017\n",
    "LOM_COD_TIPO_LOTE_MAP = {1: 'NOVO', 2:'RECUPERADO'}\n",
    "historico_hidrometro = pd.read_csv('../data/tipo_lote_hidrometro.csv',parse_dates=['LOM_DAT_FECHAMENTO_LOTE'])\n",
    "historico_hidrometro['LOM_COD_TIPO_LOTE'] = historico_hidrometro['LOM_COD_TIPO_LOTE'].map(LOM_COD_TIPO_LOTE_MAP)\n",
    "# FACO O MERGE COM O DATAFRAME \n",
    "df_mrg2 = pd.merge(df_mrg, historico_hidrometro, left_on=\"REL_NUM_MEDIDOR_ANT\", right_on=\"REL_NUM_MEDIDOR\" )"
   ]
  },
  {
   "cell_type": "code",
   "execution_count": 21,
   "metadata": {},
   "outputs": [],
   "source": [
    "# CRIO COLUNA PARA CLASSIFICAR DUPLICADOS\n",
    "def coluna_agg(dataframe, grupo, valor, tipo='count'):\n",
    "    return dataframe.groupby(grupo)[valor].transform(tipo)\n",
    "\n",
    "df_mrg2['QTD_REGISTROS'] = coluna_agg(df_mrg2, 'REL_SEQ_DESEMPENHO_MEDIDOR', 'REL_SEQ_DESEMPENHO_MEDIDOR')\n",
    "df_mrg2 = df_mrg2.sort_values(by=['REL_SEQ_DESEMPENHO_MEDIDOR','LOM_COD_TIPO_LOTE'])\n",
    "df_mrg2.drop_duplicates(['REL_SEQ_DESEMPENHO_MEDIDOR'], keep='first', inplace=True)"
   ]
  },
  {
   "cell_type": "code",
   "execution_count": 22,
   "metadata": {},
   "outputs": [
    {
     "data": {
      "text/html": [
       "<div>\n",
       "<style scoped>\n",
       "    .dataframe tbody tr th:only-of-type {\n",
       "        vertical-align: middle;\n",
       "    }\n",
       "\n",
       "    .dataframe tbody tr th {\n",
       "        vertical-align: top;\n",
       "    }\n",
       "\n",
       "    .dataframe thead th {\n",
       "        text-align: right;\n",
       "    }\n",
       "</style>\n",
       "<table border=\"1\" class=\"dataframe\">\n",
       "  <thead>\n",
       "    <tr style=\"text-align: right;\">\n",
       "      <th></th>\n",
       "      <th>REL_NUM_MEDIDOR_ANT</th>\n",
       "      <th>REL_DAT_SUBSTITUICAO</th>\n",
       "      <th>LOM_DAT_FECHAMENTO_LOTE</th>\n",
       "      <th>REL_DAT_INS_ANTERIOR</th>\n",
       "      <th>REL_DAT_INSTALACAO</th>\n",
       "      <th>LOM_COD_TIPO_LOTE</th>\n",
       "      <th>REL_SEQ_DESEMPENHO_MEDIDOR</th>\n",
       "    </tr>\n",
       "  </thead>\n",
       "  <tbody>\n",
       "    <tr>\n",
       "      <th>21673</th>\n",
       "      <td>0001290549</td>\n",
       "      <td>2017-05-19</td>\n",
       "      <td>1900-01-01</td>\n",
       "      <td>2003-08-11</td>\n",
       "      <td>2017-05-19</td>\n",
       "      <td>NOVO</td>\n",
       "      <td>1915911</td>\n",
       "    </tr>\n",
       "    <tr>\n",
       "      <th>39983</th>\n",
       "      <td>A00A007443</td>\n",
       "      <td>2017-05-18</td>\n",
       "      <td>1900-01-01</td>\n",
       "      <td>2004-04-26</td>\n",
       "      <td>2017-05-18</td>\n",
       "      <td>NOVO</td>\n",
       "      <td>1916430</td>\n",
       "    </tr>\n",
       "  </tbody>\n",
       "</table>\n",
       "</div>"
      ],
      "text/plain": [
       "      REL_NUM_MEDIDOR_ANT REL_DAT_SUBSTITUICAO LOM_DAT_FECHAMENTO_LOTE  \\\n",
       "21673          0001290549           2017-05-19              1900-01-01   \n",
       "39983          A00A007443           2017-05-18              1900-01-01   \n",
       "\n",
       "      REL_DAT_INS_ANTERIOR REL_DAT_INSTALACAO LOM_COD_TIPO_LOTE  \\\n",
       "21673           2003-08-11         2017-05-19              NOVO   \n",
       "39983           2004-04-26         2017-05-18              NOVO   \n",
       "\n",
       "       REL_SEQ_DESEMPENHO_MEDIDOR  \n",
       "21673                     1915911  \n",
       "39983                     1916430  "
      ]
     },
     "execution_count": 22,
     "metadata": {},
     "output_type": "execute_result"
    }
   ],
   "source": [
    "df_mrg2[df_mrg2['QTD_REGISTROS']>1].sort_values(by='REL_NUM_MEDIDOR_ANT')[['REL_NUM_MEDIDOR_ANT', 'REL_DAT_SUBSTITUICAO','LOM_DAT_FECHAMENTO_LOTE',\\\n",
    "         'REL_DAT_INS_ANTERIOR', 'REL_DAT_INSTALACAO','LOM_COD_TIPO_LOTE' ,'REL_SEQ_DESEMPENHO_MEDIDOR' ]].head(2)"
   ]
  },
  {
   "cell_type": "code",
   "execution_count": 23,
   "metadata": {},
   "outputs": [
    {
     "data": {
      "text/html": [
       "<div>\n",
       "<style scoped>\n",
       "    .dataframe tbody tr th:only-of-type {\n",
       "        vertical-align: middle;\n",
       "    }\n",
       "\n",
       "    .dataframe tbody tr th {\n",
       "        vertical-align: top;\n",
       "    }\n",
       "\n",
       "    .dataframe thead th {\n",
       "        text-align: right;\n",
       "    }\n",
       "</style>\n",
       "<table border=\"1\" class=\"dataframe\">\n",
       "  <thead>\n",
       "    <tr style=\"text-align: right;\">\n",
       "      <th></th>\n",
       "      <th>REL_SEQ_DESEMPENHO_MEDIDOR</th>\n",
       "      <th>REL_SLG_UNIDADE_ADMIN</th>\n",
       "      <th>REL_COD_UNIDADE_ADMIN</th>\n",
       "      <th>REL_QTD_RESIDENCIAL</th>\n",
       "      <th>REL_NUM_MEDIDOR_x</th>\n",
       "      <th>REL_NUM_MEDIDOR_ANT</th>\n",
       "      <th>REL_INSCRICAO</th>\n",
       "      <th>REL_DAT_INSTALACAO</th>\n",
       "      <th>REL_VLR_MEDIO_ATUAL_3</th>\n",
       "      <th>REL_VLR_MEDIO_ATUAL_6</th>\n",
       "      <th>...</th>\n",
       "      <th>latitude</th>\n",
       "      <th>longitude</th>\n",
       "      <th>elevacao</th>\n",
       "      <th>setor_abastecimento</th>\n",
       "      <th>REL_SEQ_MOTIVO_RETIRADA_MAP</th>\n",
       "      <th>ANOHIDROMETRO</th>\n",
       "      <th>LOM_COD_TIPO_LOTE</th>\n",
       "      <th>LOM_DAT_FECHAMENTO_LOTE</th>\n",
       "      <th>REL_NUM_MEDIDOR_y</th>\n",
       "      <th>QTD_REGISTROS</th>\n",
       "    </tr>\n",
       "  </thead>\n",
       "  <tbody>\n",
       "    <tr>\n",
       "      <th>23886</th>\n",
       "      <td>1917953</td>\n",
       "      <td>UN-MTN</td>\n",
       "      <td>117</td>\n",
       "      <td>1</td>\n",
       "      <td>A08F224848</td>\n",
       "      <td>A05F328870</td>\n",
       "      <td>7032390</td>\n",
       "      <td>2017-05-19</td>\n",
       "      <td>0.0</td>\n",
       "      <td>0.0</td>\n",
       "      <td>...</td>\n",
       "      <td>-3.715726</td>\n",
       "      <td>-38.583196</td>\n",
       "      <td>14.961788</td>\n",
       "      <td>5.0</td>\n",
       "      <td>MANUTENCAO PREVENTIVA</td>\n",
       "      <td>2005</td>\n",
       "      <td>NOVO</td>\n",
       "      <td>1900-01-01</td>\n",
       "      <td>A05F328870</td>\n",
       "      <td>4</td>\n",
       "    </tr>\n",
       "  </tbody>\n",
       "</table>\n",
       "<p>1 rows × 65 columns</p>\n",
       "</div>"
      ],
      "text/plain": [
       "       REL_SEQ_DESEMPENHO_MEDIDOR REL_SLG_UNIDADE_ADMIN  \\\n",
       "23886                     1917953                UN-MTN   \n",
       "\n",
       "       REL_COD_UNIDADE_ADMIN  REL_QTD_RESIDENCIAL REL_NUM_MEDIDOR_x  \\\n",
       "23886                    117                    1        A08F224848   \n",
       "\n",
       "      REL_NUM_MEDIDOR_ANT  REL_INSCRICAO REL_DAT_INSTALACAO  \\\n",
       "23886          A05F328870        7032390         2017-05-19   \n",
       "\n",
       "       REL_VLR_MEDIO_ATUAL_3  REL_VLR_MEDIO_ATUAL_6      ...        latitude  \\\n",
       "23886                    0.0                    0.0      ...       -3.715726   \n",
       "\n",
       "       longitude   elevacao  setor_abastecimento  REL_SEQ_MOTIVO_RETIRADA_MAP  \\\n",
       "23886 -38.583196  14.961788                  5.0        MANUTENCAO PREVENTIVA   \n",
       "\n",
       "       ANOHIDROMETRO  LOM_COD_TIPO_LOTE  LOM_DAT_FECHAMENTO_LOTE  \\\n",
       "23886           2005               NOVO               1900-01-01   \n",
       "\n",
       "       REL_NUM_MEDIDOR_y  QTD_REGISTROS  \n",
       "23886         A05F328870              4  \n",
       "\n",
       "[1 rows x 65 columns]"
      ]
     },
     "execution_count": 23,
     "metadata": {},
     "output_type": "execute_result"
    }
   ],
   "source": [
    "# POR FIM FICA SOMENTE A LINHA DE DUPLICADO, PROCESSO?\n",
    "df_mrg2[df_mrg2['REL_NUM_MEDIDOR_ANT'].duplicated()]"
   ]
  },
  {
   "cell_type": "code",
   "execution_count": 24,
   "metadata": {},
   "outputs": [
    {
     "data": {
      "text/html": [
       "<div>\n",
       "<style scoped>\n",
       "    .dataframe tbody tr th:only-of-type {\n",
       "        vertical-align: middle;\n",
       "    }\n",
       "\n",
       "    .dataframe tbody tr th {\n",
       "        vertical-align: top;\n",
       "    }\n",
       "\n",
       "    .dataframe thead th {\n",
       "        text-align: right;\n",
       "    }\n",
       "</style>\n",
       "<table border=\"1\" class=\"dataframe\">\n",
       "  <thead>\n",
       "    <tr style=\"text-align: right;\">\n",
       "      <th></th>\n",
       "      <th>REL_SEQ_DESEMPENHO_MEDIDOR</th>\n",
       "      <th>REL_SLG_UNIDADE_ADMIN</th>\n",
       "      <th>REL_COD_UNIDADE_ADMIN</th>\n",
       "      <th>REL_QTD_RESIDENCIAL</th>\n",
       "      <th>REL_NUM_MEDIDOR_x</th>\n",
       "      <th>REL_NUM_MEDIDOR_ANT</th>\n",
       "      <th>REL_INSCRICAO</th>\n",
       "      <th>REL_DAT_INSTALACAO</th>\n",
       "      <th>REL_VLR_MEDIO_ATUAL_3</th>\n",
       "      <th>REL_VLR_MEDIO_ATUAL_6</th>\n",
       "      <th>...</th>\n",
       "      <th>latitude</th>\n",
       "      <th>longitude</th>\n",
       "      <th>elevacao</th>\n",
       "      <th>setor_abastecimento</th>\n",
       "      <th>REL_SEQ_MOTIVO_RETIRADA_MAP</th>\n",
       "      <th>ANOHIDROMETRO</th>\n",
       "      <th>LOM_COD_TIPO_LOTE</th>\n",
       "      <th>LOM_DAT_FECHAMENTO_LOTE</th>\n",
       "      <th>REL_NUM_MEDIDOR_y</th>\n",
       "      <th>QTD_REGISTROS</th>\n",
       "    </tr>\n",
       "  </thead>\n",
       "  <tbody>\n",
       "  </tbody>\n",
       "</table>\n",
       "<p>0 rows × 65 columns</p>\n",
       "</div>"
      ],
      "text/plain": [
       "Empty DataFrame\n",
       "Columns: [REL_SEQ_DESEMPENHO_MEDIDOR, REL_SLG_UNIDADE_ADMIN, REL_COD_UNIDADE_ADMIN, REL_QTD_RESIDENCIAL, REL_NUM_MEDIDOR_x, REL_NUM_MEDIDOR_ANT, REL_INSCRICAO, REL_DAT_INSTALACAO, REL_VLR_MEDIO_ATUAL_3, REL_VLR_MEDIO_ATUAL_6, REL_VLR_MEDIO_ATUAL_12, REL_VLR_MEDIO_ATUAL_24, REL_VLR_MEDIO_ATUAL_1MES_3, REL_VLR_MEDIO_ATUAL_1MES_6, REL_VLR_MEDIO_ATUAL_1MES_12, REL_VLR_MEDIO_ATUAL_1MES_24, REL_VLR_MEDIO_ANT_3, REL_VLR_MEDIO_ANT_6, REL_VLR_MEDIO_ANT_12, REL_VLR_MEDIO_ANT_24, REL_VLR_MEDIO_ANT_1MES_3, REL_VLR_MEDIO_ANT_1MES_6, REL_VLR_MEDIO_ANT_1MES_12, REL_VLR_MEDIO_ANT_1MES_24, REL_VOLUME_MED_ATUAL_3, REL_VOLUME_MED_ATUAL_6, REL_VOLUME_MED_ATUAL_12, REL_VOLUME_MED_ATUAL_24, REL_VOLUME_MED_ATUAL_1MES_3, REL_VOLUME_MED_ATUAL_1MES_6, REL_VOLUME_MED_ATUAL_1MES_12, REL_VOLUME_MED_ATUAL_1MES_24, REL_VOLUME_MED_ANT_3, REL_VOLUME_MED_ANT_6, REL_VOLUME_MED_ANT_12, REL_VOLUME_MED_ANT_24, REL_VOLUME_MED_ANT_1MES_3, REL_VOLUME_MED_ANT_1MES_6, REL_VOLUME_MED_ANT_1MES_12, REL_VOLUME_MED_ANT_1MES_24, REL_COMPETENCIA, REL_LGE_COD_SIG, REL_SEQ_INSTALACAO, REL_SEQ_INSTALACAO_ANT, REL_DAT_SUBSTITUICAO, REL_NUM_SETOR, REL_NUM_QUADRA, REL_SEQ_MARCA_MEDIDOR, REL_SEQ_CAPACIDADE_MEDIDOR, REL_SEQ_MOTIVO_RETIRADA, REL_DAT_INS_ANTERIOR, REL_IDADE_MEDIDOR, fid, id, inscricoes, latitude, longitude, elevacao, setor_abastecimento, REL_SEQ_MOTIVO_RETIRADA_MAP, ANOHIDROMETRO, LOM_COD_TIPO_LOTE, LOM_DAT_FECHAMENTO_LOTE, REL_NUM_MEDIDOR_y, QTD_REGISTROS]\n",
       "Index: []\n",
       "\n",
       "[0 rows x 65 columns]"
      ]
     },
     "execution_count": 24,
     "metadata": {},
     "output_type": "execute_result"
    }
   ],
   "source": [
    "df_mrg2.drop_duplicates(['REL_NUM_MEDIDOR_ANT'], keep=False, inplace=True)\n",
    "df_mrg2[df_mrg2['REL_NUM_MEDIDOR_ANT'].duplicated()]"
   ]
  },
  {
   "cell_type": "markdown",
   "metadata": {},
   "source": [
    "```python\n",
    "# CLASSIFICA HIDROMETROS POR ANO DO LOTE\n",
    "def classifica_hidrometro(ano_hidrometro):\n",
    "    ano_amostra = 2017\n",
    "    idade_hidrometro = ano_amostra - ano_hidrometro\n",
    "    if idade_hidrometro < 2:\n",
    "        return 'PRIMEIRO ANO'\n",
    "    elif (idade_hidrometro > 1) & (idade_hidrometro < 5):\n",
    "        return 'ABAIXO NORMA INMETRO'\n",
    "    elif (idade_hidrometro == 5):\n",
    "        return 'ACORDO NORMA INMETRO'\n",
    "    elif (idade_hidrometro > 5) & (idade_hidrometro < 11):\n",
    "        return 'ACIMA NORMA INMETRO'\n",
    "    elif (idade_hidrometro > 10):\n",
    "        return 'DESCARTE IMEDIATO'\n",
    "    else:\n",
    "        return 'VERIFICAR'\n",
    "\n",
    "df_mrg['IDADEHIDROMETROCLASSE'] = df_mrg['ANOHIDROMETRO'].apply(classifica_hidrometro)\n",
    "```"
   ]
  },
  {
   "cell_type": "code",
   "execution_count": 30,
   "metadata": {},
   "outputs": [],
   "source": [
    "# IDADE DO MEDIDOR COM BASE NO LOTE\n",
    "df_mrg2['REL_IDADE_MEDIDOR_LOTE'] = df_mrg2['ANOHIDROMETRO'].apply(lambda x: 2017 - x)"
   ]
  },
  {
   "cell_type": "code",
   "execution_count": 38,
   "metadata": {},
   "outputs": [],
   "source": [
    "# DIFERENCA ENTRE MEDIA DE 2 ANOS COM A MEDIA DOS ULTIMOS 3 MESES\n",
    "df_mrg2['VARIACAO2ANOS3MESES'] = df_mrg2['REL_VOLUME_MED_ANT_3']/ df_mrg2['REL_VOLUME_MED_ANT_24']\n",
    "df_mrg2['VARIACAO1ANO3MESES'] = df_mrg2['REL_VOLUME_MED_ANT_3']/ df_mrg2['REL_VOLUME_MED_ANT_12']"
   ]
  },
  {
   "cell_type": "code",
   "execution_count": 32,
   "metadata": {},
   "outputs": [
    {
     "data": {
      "text/plain": [
       "count    29083.000000\n",
       "mean         0.977411\n",
       "std          0.309236\n",
       "min          0.019608\n",
       "25%          0.833333\n",
       "50%          1.000000\n",
       "75%          1.100000\n",
       "max          6.750000\n",
       "Name: VARIACAO2ANOS3MESES, dtype: float64"
      ]
     },
     "execution_count": 32,
     "metadata": {},
     "output_type": "execute_result"
    }
   ],
   "source": [
    "df_mrg2['VARIACAO2ANOS3MESES'].describe()"
   ]
  },
  {
   "cell_type": "code",
   "execution_count": 33,
   "metadata": {},
   "outputs": [
    {
     "data": {
      "text/html": [
       "<div>\n",
       "<style scoped>\n",
       "    .dataframe tbody tr th:only-of-type {\n",
       "        vertical-align: middle;\n",
       "    }\n",
       "\n",
       "    .dataframe tbody tr th {\n",
       "        vertical-align: top;\n",
       "    }\n",
       "\n",
       "    .dataframe thead th {\n",
       "        text-align: right;\n",
       "    }\n",
       "</style>\n",
       "<table border=\"1\" class=\"dataframe\">\n",
       "  <thead>\n",
       "    <tr style=\"text-align: right;\">\n",
       "      <th></th>\n",
       "      <th>REL_IDADE_MEDIDOR</th>\n",
       "      <th>LOM_COD_TIPO_LOTE</th>\n",
       "      <th>ANOHIDROMETRO</th>\n",
       "    </tr>\n",
       "  </thead>\n",
       "  <tbody>\n",
       "    <tr>\n",
       "      <th>40477</th>\n",
       "      <td>9.0</td>\n",
       "      <td>NOVO</td>\n",
       "      <td>2001</td>\n",
       "    </tr>\n",
       "    <tr>\n",
       "      <th>30</th>\n",
       "      <td>10.0</td>\n",
       "      <td>NOVO</td>\n",
       "      <td>2007</td>\n",
       "    </tr>\n",
       "  </tbody>\n",
       "</table>\n",
       "</div>"
      ],
      "text/plain": [
       "       REL_IDADE_MEDIDOR LOM_COD_TIPO_LOTE  ANOHIDROMETRO\n",
       "40477                9.0              NOVO           2001\n",
       "30                  10.0              NOVO           2007"
      ]
     },
     "execution_count": 33,
     "metadata": {},
     "output_type": "execute_result"
    }
   ],
   "source": [
    "df_mrg2[['REL_IDADE_MEDIDOR', 'LOM_COD_TIPO_LOTE', 'ANOHIDROMETRO']].head(2)"
   ]
  },
  {
   "cell_type": "code",
   "execution_count": 34,
   "metadata": {},
   "outputs": [],
   "source": [
    "def vida_util_anterior(colunas):\n",
    "    idadehidrometro = 2017 - colunas[2]\n",
    "    idadenoimovel = colunas[0]\n",
    "    vidaanterior = idadehidrometro-idadenoimovel\n",
    "    situacao = colunas[1]\n",
    "    if vidaanterior==0:\n",
    "        if idadehidrometro < 2:\n",
    "            return 'UNICO IMOVEL '+' - '+'PRIMEIRO ANO'\n",
    "        elif (idadehidrometro > 1) & (idadehidrometro < 5):\n",
    "            return 'UNICO IMOVEL '+' - '+ 'ABAIXO NORMA INMETRO'\n",
    "        elif (idadehidrometro == 5):\n",
    "            return 'UNICO IMOVEL '+' - '+ 'ACORDO NORMA INMETRO'\n",
    "        elif (idadehidrometro > 5) & (idadehidrometro < 11):\n",
    "            return 'UNICO IMOVEL '+' - '+ 'ACIMA NORMA INMETRO'\n",
    "        elif (idadehidrometro > 10):\n",
    "            return 'UNICO IMOVEL '+' - '+ 'DESCARTE IMEDIATO'\n",
    "        else:\n",
    "            return 'VERIFICAR'\n",
    "    else:\n",
    "        if idadehidrometro < 2:\n",
    "            return 'JA MIGROU IMOVEL - '+'PRIMEIRO ANO'\n",
    "        elif (idadehidrometro > 1) & (idadehidrometro < 5):\n",
    "            return 'JA MIGROU IMOVEL - '+'ABAIXO NORMA INMETRO'\n",
    "        elif (idadehidrometro == 5):\n",
    "            return 'JA MIGROU IMOVEL - '+'ACORDO NORMA INMETRO'\n",
    "        elif (idadehidrometro > 5) & (idadehidrometro < 11):\n",
    "            return 'JA MIGROU IMOVEL - '+'ACIMA NORMA INMETRO'\n",
    "        elif (idadehidrometro > 10):\n",
    "            return 'JA MIGROU IMOVEL - '+'DESCARTE IMEDIATO'\n",
    "        else:\n",
    "            return 'VERIFICAR'\n",
    "\n",
    "df_mrg2['IDADEHIDROMETROCLASSE'] = df_mrg2[['REL_IDADE_MEDIDOR', 'LOM_COD_TIPO_LOTE', 'ANOHIDROMETRO']].apply(vida_util_anterior, axis=1)"
   ]
  },
  {
   "cell_type": "code",
   "execution_count": null,
   "metadata": {},
   "outputs": [],
   "source": [
    "aplicar_onehotencoding = ['REL_SLG_UNIDADE_ADMIN', 'REL_SEQ_MARCA_MEDIDOR', 'REL_SEQ_CAPACIDADE_MEDIDOR', \n",
    "                          'REL_SEQ_MOTIVO_RETIRADA_MAP', 'setor_abastecimento', 'ANOHIDROMETRO',\n",
    "                         'LOM_COD_TIPO_LOTE','IDADEHIDROMETROCLASSE']\n",
    "\n",
    "remover = ['REL_SEQ_DESEMPENHO_MEDIDOR', 'REL_COD_UNIDADE_ADMIN','REL_NUM_MEDIDOR_ANT', \n",
    "           'REL_INSCRICAO', 'REL_DAT_INSTALACAO','REL_VLR_MEDIO_ATUAL_3','REL_VLR_MEDIO_ATUAL_6', \n",
    "           'REL_VLR_MEDIO_ATUAL_12', 'REL_VLR_MEDIO_ATUAL_1MES_24','REL_VLR_MEDIO_ATUAL_1MES_3',\n",
    "          'REL_VLR_MEDIO_ATUAL_1MES_6','REL_VLR_MEDIO_ATUAL_1MES_12', 'REL_VLR_MEDIO_ATUAL_1MES_24', \n",
    "           'REL_VLR_MEDIO_ANT_3', 'REL_VLR_MEDIO_ANT_6','REL_VLR_MEDIO_ANT_12', 'REL_VLR_MEDIO_ANT_24', \n",
    "           'REL_VLR_MEDIO_ANT_1MES_3', 'REL_VLR_MEDIO_ANT_1MES_6', 'REL_VLR_MEDIO_ANT_1MES_12',\n",
    "          'REL_VLR_MEDIO_ANT_1MES_24', 'REL_VOLUME_MED_ATUAL_3','REL_VOLUME_MED_ATUAL_6','REL_VOLUME_MED_ATUAL_12',\n",
    "       'REL_VOLUME_MED_ATUAL_24', 'REL_VOLUME_MED_ATUAL_1MES_3','REL_VOLUME_MED_ATUAL_1MES_6',\n",
    "        'REL_VOLUME_MED_ATUAL_1MES_12','REL_VOLUME_MED_ATUAL_1MES_24', 'REL_VOLUME_MED_ANT_3',\n",
    "       'REL_VOLUME_MED_ANT_6', 'REL_VOLUME_MED_ANT_12','REL_VOLUME_MED_ANT_24', 'REL_VOLUME_MED_ANT_1MES_3',\n",
    "       'REL_VOLUME_MED_ANT_1MES_6', 'REL_VOLUME_MED_ANT_1MES_12','REL_VOLUME_MED_ANT_1MES_24', 'REL_COMPETENCIA', \n",
    "        'REL_LGE_COD_SIG','REL_SEQ_INSTALACAO', 'REL_SEQ_INSTALACAO_ANT', 'REL_DAT_SUBSTITUICAO', 'REL_NUM_SETOR', \n",
    "           'REL_NUM_QUADRA','REL_DAT_INS_ANTERIOR','fid', 'id', 'inscricoes','latitude', \n",
    "           'longitude', 'LOM_DAT_FECHAMENTO_LOTE', 'REL_NUM_MEDIDOR_y', 'REL_NUM_MEDIDOR_x','QTD_REGISTROS', \n",
    "           'REL_SEQ_MOTIVO_RETIRADA', 'REL_VLR_MEDIO_ATUAL_24', 'REL_IDADE_MEDIDOR_LOTE']"
   ]
  },
  {
   "cell_type": "code",
   "execution_count": null,
   "metadata": {},
   "outputs": [],
   "source": [
    "df_mrg2.drop(remover, axis=1, inplace=True)"
   ]
  },
  {
   "cell_type": "code",
   "execution_count": null,
   "metadata": {},
   "outputs": [],
   "source": [
    "for categoria in aplicar_onehotencoding:\n",
    "    df_mrg2 = pdm.set_onehotencoding(df_mrg2, categoria, categoria)"
   ]
  },
  {
   "cell_type": "code",
   "execution_count": null,
   "metadata": {},
   "outputs": [],
   "source": [
    "df_mrg2.head(2)"
   ]
  },
  {
   "cell_type": "code",
   "execution_count": 35,
   "metadata": {},
   "outputs": [
    {
     "data": {
      "text/plain": [
       "<matplotlib.axes._subplots.AxesSubplot at 0x7f9a6b973128>"
      ]
     },
     "execution_count": 35,
     "metadata": {},
     "output_type": "execute_result"
    },
    {
     "data": {
      "image/png": "[encoded data removed]",
      "text/plain": [
       "<Figure size 864x432 with 1 Axes>"
      ]
     },
     "metadata": {},
     "output_type": "display_data"
    }
   ],
   "source": [
    "plt.figure(figsize=(12, 6))\n",
    "plt.title(\"CLASSE DE IDADE DO HIDROMETRO\")\n",
    "sns.countplot(y='IDADEHIDROMETROCLASSE', data=df_mrg2)"
   ]
  },
  {
   "cell_type": "code",
   "execution_count": null,
   "metadata": {},
   "outputs": [],
   "source": [
    "df_mrg2['IDADEHIDROMETROCLASSE'].value_counts()"
   ]
  },
  {
   "cell_type": "code",
   "execution_count": 36,
   "metadata": {},
   "outputs": [
    {
     "data": {
      "text/plain": [
       "<matplotlib.axes._subplots.AxesSubplot at 0x7f9a66f32da0>"
      ]
     },
     "execution_count": 36,
     "metadata": {},
     "output_type": "execute_result"
    },
    {
     "data": {
      "image/png": "[encoded data removed]",
      "text/plain": [
       "<Figure size 864x432 with 1 Axes>"
      ]
     },
     "metadata": {},
     "output_type": "display_data"
    }
   ],
   "source": [
    "plt.figure(figsize=(12, 6))\n",
    "plt.title(\"IDADE REAL DO HIDROMETRO(Com base no prefixo)\")\n",
    "sns.countplot(x='ANOHIDROMETRO', data=df_mrg2)"
   ]
  },
  {
   "cell_type": "code",
   "execution_count": null,
   "metadata": {},
   "outputs": [],
   "source": [
    "df_mrg2['ANOHIDROMETRO'].value_counts()"
   ]
  },
  {
   "cell_type": "code",
   "execution_count": 37,
   "metadata": {},
   "outputs": [
    {
     "data": {
      "text/html": [
       "<div>\n",
       "<style scoped>\n",
       "    .dataframe tbody tr th:only-of-type {\n",
       "        vertical-align: middle;\n",
       "    }\n",
       "\n",
       "    .dataframe tbody tr th {\n",
       "        vertical-align: top;\n",
       "    }\n",
       "\n",
       "    .dataframe thead th {\n",
       "        text-align: right;\n",
       "    }\n",
       "</style>\n",
       "<table border=\"1\" class=\"dataframe\">\n",
       "  <thead>\n",
       "    <tr style=\"text-align: right;\">\n",
       "      <th></th>\n",
       "      <th>REL_INSCRICAO</th>\n",
       "      <th>REL_NUM_MEDIDOR_ANT</th>\n",
       "      <th>REL_IDADE_MEDIDOR</th>\n",
       "      <th>LOM_COD_TIPO_LOTE</th>\n",
       "      <th>ANOHIDROMETRO</th>\n",
       "      <th>IDADEHIDROMETROCLASSE</th>\n",
       "    </tr>\n",
       "  </thead>\n",
       "  <tbody>\n",
       "  </tbody>\n",
       "</table>\n",
       "</div>"
      ],
      "text/plain": [
       "Empty DataFrame\n",
       "Columns: [REL_INSCRICAO, REL_NUM_MEDIDOR_ANT, REL_IDADE_MEDIDOR, LOM_COD_TIPO_LOTE, ANOHIDROMETRO, IDADEHIDROMETROCLASSE]\n",
       "Index: []"
      ]
     },
     "execution_count": 37,
     "metadata": {},
     "output_type": "execute_result"
    }
   ],
   "source": [
    "df_mrg2[df_mrg2['IDADEHIDROMETROCLASSE']=='S TROCA NOVO - DESCARTE IMEDIATO']\\\n",
    "[['REL_INSCRICAO','REL_NUM_MEDIDOR_ANT','REL_IDADE_MEDIDOR', 'LOM_COD_TIPO_LOTE',\\\n",
    "  'ANOHIDROMETRO', 'IDADEHIDROMETROCLASSE']].head(2)"
   ]
  },
  {
   "cell_type": "code",
   "execution_count": 7,
   "metadata": {},
   "outputs": [],
   "source": [
    "df = pd.read_csv('../data/DF.csv')"
   ]
  },
  {
   "cell_type": "code",
   "execution_count": 69,
   "metadata": {},
   "outputs": [
    {
     "data": {
      "text/plain": [
       "Text(0, 0.5, 'Anos de uso')"
      ]
     },
     "execution_count": 69,
     "metadata": {},
     "output_type": "execute_result"
    },
    {
     "data": {
      "image/png": "[encoded data removed]",
      "text/plain": [
       "<Figure size 1440x720 with 1 Axes>"
      ]
     },
     "metadata": {},
     "output_type": "display_data"
    }
   ],
   "source": [
    "df[(df.vidaHidrometro<25)& (df.bhc_dsc_status == 0)].vidaHidrometro.plot(kind='box', title=\"Distribuição da vida dos hidrometros trocados\", figsize=(20,10))\n",
    "plt.ylabel('Anos de uso')"
   ]
  },
  {
   "cell_type": "code",
   "execution_count": 65,
   "metadata": {},
   "outputs": [
    {
     "data": {
      "text/plain": [
       "<matplotlib.axes._subplots.AxesSubplot at 0x7fbf32bbf5f8>"
      ]
     },
     "execution_count": 65,
     "metadata": {},
     "output_type": "execute_result"
    },
    {
     "data": {
      "image/png": "[encoded data removed]",
      "text/plain": [
       "<Figure size 432x288 with 2 Axes>"
      ]
     },
     "metadata": {},
     "output_type": "display_data"
    }
   ],
   "source": [
    "correlacao = df[(df.vidaHidrometro<25)& (df.bhc_dsc_status == 0)].drop(['Unnamed: 0','IDHidrometro','bhc_dsc_status'], axis=1).corr()\n",
    "sns.heatmap(correlacao)"
   ]
  },
  {
   "cell_type": "code",
   "execution_count": 82,
   "metadata": {},
   "outputs": [
    {
     "data": {
      "text/plain": [
       "<matplotlib.axes._subplots.AxesSubplot at 0x7fbf26c68358>"
      ]
     },
     "execution_count": 82,
     "metadata": {},
     "output_type": "execute_result"
    },
    {
     "data": {
      "image/png": "[encoded data removed]",
      "text/plain": [
       "<Figure size 432x288 with 1 Axes>"
      ]
     },
     "metadata": {},
     "output_type": "display_data"
    }
   ],
   "source": [
    "\n",
    "sns.boxplot(x=df.variacaoTendencia)"
   ]
  },
  {
   "cell_type": "code",
   "execution_count": 85,
   "metadata": {},
   "outputs": [
    {
     "data": {
      "text/plain": [
       "<matplotlib.axes._subplots.AxesSubplot at 0x7fbf26c2e358>"
      ]
     },
     "execution_count": 85,
     "metadata": {},
     "output_type": "execute_result"
    },
    {
     "data": {
      "image/png": "[encoded data removed]",
      "text/plain": [
       "<Figure size 432x288 with 1 Axes>"
      ]
     },
     "metadata": {},
     "output_type": "display_data"
    }
   ],
   "source": [
    "sns.boxplot('CVProcessado', hue='bhc_dsc_status', data=df)"
   ]
  },
  {
   "cell_type": "code",
   "execution_count": null,
   "metadata": {},
   "outputs": [],
   "source": [
    "O processo de verificação e troca dos hidrometros se dar "
   ]
  }
 ],
 "metadata": {
  "kernelspec": {
   "display_name": "Python 3",
   "language": "python",
   "name": "python3"
  },
  "language_info": {
   "codemirror_mode": {
    "name": "ipython",
    "version": 3
   },
   "file_extension": ".py",
   "mimetype": "text/x-python",
   "name": "python",
   "nbconvert_exporter": "python",
   "pygments_lexer": "ipython3",
   "version": "3.5.2"
  }
 },
 "nbformat": 4,
 "nbformat_minor": 4
}
