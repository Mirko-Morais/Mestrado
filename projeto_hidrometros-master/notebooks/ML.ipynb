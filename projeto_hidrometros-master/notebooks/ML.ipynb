{
 "cells": [
  {
   "cell_type": "code",
   "execution_count": 5,
   "metadata": {},
   "outputs": [],
   "source": [
    "def acuracia_modelo(model_instance, x_train, y_train, x_test, y_test):\n",
    "    model_instance.fit(x_train, y_train)\n",
    "    y_pred = model_instance.predict(x_test)\n",
    "    return accuracy_score(y_test, y_pred)\n",
    "\n",
    "def onInterval(vMin, vMax, value):\n",
    "    if value >= vMin and value <= vMax:\n",
    "        return 0\n",
    "    return 1\n",
    "def setOutlier(df, colName, col):\n",
    "    iqr = df[colName].quantile(.75) - df[colName].quantile(.25)\n",
    "    inf_limit = df[colName].median() - (iqr*1.5)\n",
    "    sup_limit = df[colName].median() + (iqr*1.5)\n",
    "    df[col] = df[colName].apply(lambda x: onInterval(inf_limit, sup_limit, x))\n",
    "    return df"
   ]
  },
  {
   "cell_type": "code",
   "execution_count": 2,
   "metadata": {},
   "outputs": [],
   "source": [
    "import warnings ; warnings.filterwarnings(\"ignore\", category=RuntimeWarning) \n",
    "import pandas as pd\n",
    "from sklearn.preprocessing import StandardScaler\n",
    "from sklearn.model_selection import train_test_split\n",
    "from sklearn.feature_selection import SelectFromModel\n",
    "from sklearn.metrics import confusion_matrix, accuracy_score\n",
    "from sklearn.ensemble import RandomForestClassifier"
   ]
  },
  {
   "cell_type": "code",
   "execution_count": 6,
   "metadata": {},
   "outputs": [
    {
     "name": "stdout",
     "output_type": "stream",
     "text": [
      "-\n"
     ]
    }
   ],
   "source": [
    "df = pd.read_csv('../data/train_hidrometros.csv')\n",
    "df.pipe(setOutlier, 'vidaHidrometro', 'OUTvidaHidrometro')\n",
    "df.drop(df[df['OUTvidaHidrometro']==1].index, inplace=True)\n",
    "print('-')"
   ]
  },
  {
   "cell_type": "code",
   "execution_count": 7,
   "metadata": {},
   "outputs": [],
   "source": [
    "previsor = df.drop(columns='status').values\n",
    "classe = df['status'].values"
   ]
  },
  {
   "cell_type": "code",
   "execution_count": 8,
   "metadata": {},
   "outputs": [],
   "source": [
    "scaler = StandardScaler()\n",
    "previsor = scaler.fit_transform(previsor)"
   ]
  },
  {
   "cell_type": "code",
   "execution_count": 9,
   "metadata": {},
   "outputs": [],
   "source": [
    "X_train, X_test, y_train, y_test = train_test_split(previsor,classe,random_state = 0)"
   ]
  },
  {
   "cell_type": "code",
   "execution_count": 10,
   "metadata": {},
   "outputs": [],
   "source": [
    "randomForest = RandomForestClassifier(n_estimators = 40, criterion = 'entropy', random_state = 0)"
   ]
  },
  {
   "cell_type": "code",
   "execution_count": 11,
   "metadata": {},
   "outputs": [
    {
     "data": {
      "text/plain": [
       "0.7635814889336016"
      ]
     },
     "execution_count": 11,
     "metadata": {},
     "output_type": "execute_result"
    }
   ],
   "source": [
    "acuracia_modelo(model_instance = randomForest,\\\n",
    "                x_train = X_train, \\\n",
    "                y_train = y_train, \\\n",
    "                x_test = X_test, \\\n",
    "                y_test = y_test)"
   ]
  },
  {
   "cell_type": "code",
   "execution_count": 12,
   "metadata": {},
   "outputs": [
    {
     "data": {
      "text/html": [
       "<div>\n",
       "<style scoped>\n",
       "    .dataframe tbody tr th:only-of-type {\n",
       "        vertical-align: middle;\n",
       "    }\n",
       "\n",
       "    .dataframe tbody tr th {\n",
       "        vertical-align: top;\n",
       "    }\n",
       "\n",
       "    .dataframe thead th {\n",
       "        text-align: right;\n",
       "    }\n",
       "</style>\n",
       "<table border=\"1\" class=\"dataframe\">\n",
       "  <thead>\n",
       "    <tr style=\"text-align: right;\">\n",
       "      <th></th>\n",
       "      <th>importance</th>\n",
       "    </tr>\n",
       "  </thead>\n",
       "  <tbody>\n",
       "    <tr>\n",
       "      <th>CVProcessado</th>\n",
       "      <td>0.200018</td>\n",
       "    </tr>\n",
       "    <tr>\n",
       "      <th>QtdOcorrencias</th>\n",
       "      <td>0.044533</td>\n",
       "    </tr>\n",
       "    <tr>\n",
       "      <th>QtdMedicoes</th>\n",
       "      <td>0.068030</td>\n",
       "    </tr>\n",
       "    <tr>\n",
       "      <th>QTD_INSTALACOES</th>\n",
       "      <td>0.031990</td>\n",
       "    </tr>\n",
       "    <tr>\n",
       "      <th>IMO_QTD_PONTOS_UTILIZACAO</th>\n",
       "      <td>0.116212</td>\n",
       "    </tr>\n",
       "    <tr>\n",
       "      <th>vidaInstalacao</th>\n",
       "      <td>0.181368</td>\n",
       "    </tr>\n",
       "    <tr>\n",
       "      <th>vidaHidrometro</th>\n",
       "      <td>0.172973</td>\n",
       "    </tr>\n",
       "    <tr>\n",
       "      <th>outCV</th>\n",
       "      <td>0.000000</td>\n",
       "    </tr>\n",
       "    <tr>\n",
       "      <th>MAR_SEQ_MARCA_3.0</th>\n",
       "      <td>0.007461</td>\n",
       "    </tr>\n",
       "    <tr>\n",
       "      <th>MAR_SEQ_MARCA_10.0</th>\n",
       "      <td>0.021648</td>\n",
       "    </tr>\n",
       "    <tr>\n",
       "      <th>MAR_SEQ_MARCA_12.0</th>\n",
       "      <td>0.011708</td>\n",
       "    </tr>\n",
       "    <tr>\n",
       "      <th>MAR_SEQ_MARCA_14.0</th>\n",
       "      <td>0.027548</td>\n",
       "    </tr>\n",
       "    <tr>\n",
       "      <th>MAR_SEQ_MARCA_17.0</th>\n",
       "      <td>0.000019</td>\n",
       "    </tr>\n",
       "    <tr>\n",
       "      <th>MAR_SEQ_MARCA_19.0</th>\n",
       "      <td>0.000043</td>\n",
       "    </tr>\n",
       "    <tr>\n",
       "      <th>ESM_SEQ_ESPECIFICACAO_MEDIDOR_2.0</th>\n",
       "      <td>0.000049</td>\n",
       "    </tr>\n",
       "    <tr>\n",
       "      <th>ESM_SEQ_ESPECIFICACAO_MEDIDOR_11.0</th>\n",
       "      <td>0.003049</td>\n",
       "    </tr>\n",
       "    <tr>\n",
       "      <th>ESM_SEQ_ESPECIFICACAO_MEDIDOR_15.0</th>\n",
       "      <td>0.000021</td>\n",
       "    </tr>\n",
       "    <tr>\n",
       "      <th>ESM_SEQ_ESPECIFICACAO_MEDIDOR_16.0</th>\n",
       "      <td>0.001018</td>\n",
       "    </tr>\n",
       "    <tr>\n",
       "      <th>ESM_SEQ_ESPECIFICACAO_MEDIDOR_17.0</th>\n",
       "      <td>0.000619</td>\n",
       "    </tr>\n",
       "    <tr>\n",
       "      <th>ESM_SEQ_ESPECIFICACAO_MEDIDOR_18.0</th>\n",
       "      <td>0.000772</td>\n",
       "    </tr>\n",
       "    <tr>\n",
       "      <th>ESM_SEQ_ESPECIFICACAO_MEDIDOR_20.0</th>\n",
       "      <td>0.000582</td>\n",
       "    </tr>\n",
       "    <tr>\n",
       "      <th>ESM_SEQ_ESPECIFICACAO_MEDIDOR_29.0</th>\n",
       "      <td>0.000541</td>\n",
       "    </tr>\n",
       "    <tr>\n",
       "      <th>ESM_SEQ_ESPECIFICACAO_MEDIDOR_31.0</th>\n",
       "      <td>0.000116</td>\n",
       "    </tr>\n",
       "    <tr>\n",
       "      <th>ESM_SEQ_ESPECIFICACAO_MEDIDOR_53.0</th>\n",
       "      <td>0.000111</td>\n",
       "    </tr>\n",
       "    <tr>\n",
       "      <th>PIM_SEQ_PADRAO_IMOVEL_1.0</th>\n",
       "      <td>0.009987</td>\n",
       "    </tr>\n",
       "    <tr>\n",
       "      <th>PIM_SEQ_PADRAO_IMOVEL_2.0</th>\n",
       "      <td>0.010987</td>\n",
       "    </tr>\n",
       "    <tr>\n",
       "      <th>PIM_SEQ_PADRAO_IMOVEL_3.0</th>\n",
       "      <td>0.013105</td>\n",
       "    </tr>\n",
       "    <tr>\n",
       "      <th>PIM_SEQ_PADRAO_IMOVEL_4.0</th>\n",
       "      <td>0.011220</td>\n",
       "    </tr>\n",
       "    <tr>\n",
       "      <th>PIM_SEQ_PADRAO_IMOVEL_5.0</th>\n",
       "      <td>0.000409</td>\n",
       "    </tr>\n",
       "    <tr>\n",
       "      <th>UAD_COD_UNIDADE_ADMINISTRATIVA_45.0</th>\n",
       "      <td>0.012352</td>\n",
       "    </tr>\n",
       "    <tr>\n",
       "      <th>UAD_COD_UNIDADE_ADMINISTRATIVA_48.0</th>\n",
       "      <td>0.013471</td>\n",
       "    </tr>\n",
       "    <tr>\n",
       "      <th>UAD_COD_UNIDADE_ADMINISTRATIVA_51.0</th>\n",
       "      <td>0.011890</td>\n",
       "    </tr>\n",
       "    <tr>\n",
       "      <th>UAD_COD_UNIDADE_ADMINISTRATIVA_117.0</th>\n",
       "      <td>0.013223</td>\n",
       "    </tr>\n",
       "    <tr>\n",
       "      <th>UAD_COD_UNIDADE_ADMINISTRATIVA_123.0</th>\n",
       "      <td>0.010613</td>\n",
       "    </tr>\n",
       "    <tr>\n",
       "      <th>UAD_COD_UNIDADE_ADMINISTRATIVA_128.0</th>\n",
       "      <td>0.000086</td>\n",
       "    </tr>\n",
       "    <tr>\n",
       "      <th>UAD_COD_UNIDADE_ADMINISTRATIVA_133.0</th>\n",
       "      <td>0.000082</td>\n",
       "    </tr>\n",
       "    <tr>\n",
       "      <th>UAD_COD_UNIDADE_ADMINISTRATIVA_143.0</th>\n",
       "      <td>0.000303</td>\n",
       "    </tr>\n",
       "    <tr>\n",
       "      <th>UAD_COD_UNIDADE_ADMINISTRATIVA_148.0</th>\n",
       "      <td>0.000287</td>\n",
       "    </tr>\n",
       "    <tr>\n",
       "      <th>UAD_COD_UNIDADE_ADMINISTRATIVA_153.0</th>\n",
       "      <td>0.000000</td>\n",
       "    </tr>\n",
       "    <tr>\n",
       "      <th>UAD_COD_UNIDADE_ADMINISTRATIVA_158.0</th>\n",
       "      <td>0.000034</td>\n",
       "    </tr>\n",
       "    <tr>\n",
       "      <th>UAD_COD_UNIDADE_ADMINISTRATIVA_473.0</th>\n",
       "      <td>0.001519</td>\n",
       "    </tr>\n",
       "    <tr>\n",
       "      <th>OUTvidaHidrometro</th>\n",
       "      <td>0.000000</td>\n",
       "    </tr>\n",
       "  </tbody>\n",
       "</table>\n",
       "</div>"
      ],
      "text/plain": [
       "                                      importance\n",
       "CVProcessado                            0.200018\n",
       "QtdOcorrencias                          0.044533\n",
       "QtdMedicoes                             0.068030\n",
       "QTD_INSTALACOES                         0.031990\n",
       "IMO_QTD_PONTOS_UTILIZACAO               0.116212\n",
       "vidaInstalacao                          0.181368\n",
       "vidaHidrometro                          0.172973\n",
       "outCV                                   0.000000\n",
       "MAR_SEQ_MARCA_3.0                       0.007461\n",
       "MAR_SEQ_MARCA_10.0                      0.021648\n",
       "MAR_SEQ_MARCA_12.0                      0.011708\n",
       "MAR_SEQ_MARCA_14.0                      0.027548\n",
       "MAR_SEQ_MARCA_17.0                      0.000019\n",
       "MAR_SEQ_MARCA_19.0                      0.000043\n",
       "ESM_SEQ_ESPECIFICACAO_MEDIDOR_2.0       0.000049\n",
       "ESM_SEQ_ESPECIFICACAO_MEDIDOR_11.0      0.003049\n",
       "ESM_SEQ_ESPECIFICACAO_MEDIDOR_15.0      0.000021\n",
       "ESM_SEQ_ESPECIFICACAO_MEDIDOR_16.0      0.001018\n",
       "ESM_SEQ_ESPECIFICACAO_MEDIDOR_17.0      0.000619\n",
       "ESM_SEQ_ESPECIFICACAO_MEDIDOR_18.0      0.000772\n",
       "ESM_SEQ_ESPECIFICACAO_MEDIDOR_20.0      0.000582\n",
       "ESM_SEQ_ESPECIFICACAO_MEDIDOR_29.0      0.000541\n",
       "ESM_SEQ_ESPECIFICACAO_MEDIDOR_31.0      0.000116\n",
       "ESM_SEQ_ESPECIFICACAO_MEDIDOR_53.0      0.000111\n",
       "PIM_SEQ_PADRAO_IMOVEL_1.0               0.009987\n",
       "PIM_SEQ_PADRAO_IMOVEL_2.0               0.010987\n",
       "PIM_SEQ_PADRAO_IMOVEL_3.0               0.013105\n",
       "PIM_SEQ_PADRAO_IMOVEL_4.0               0.011220\n",
       "PIM_SEQ_PADRAO_IMOVEL_5.0               0.000409\n",
       "UAD_COD_UNIDADE_ADMINISTRATIVA_45.0     0.012352\n",
       "UAD_COD_UNIDADE_ADMINISTRATIVA_48.0     0.013471\n",
       "UAD_COD_UNIDADE_ADMINISTRATIVA_51.0     0.011890\n",
       "UAD_COD_UNIDADE_ADMINISTRATIVA_117.0    0.013223\n",
       "UAD_COD_UNIDADE_ADMINISTRATIVA_123.0    0.010613\n",
       "UAD_COD_UNIDADE_ADMINISTRATIVA_128.0    0.000086\n",
       "UAD_COD_UNIDADE_ADMINISTRATIVA_133.0    0.000082\n",
       "UAD_COD_UNIDADE_ADMINISTRATIVA_143.0    0.000303\n",
       "UAD_COD_UNIDADE_ADMINISTRATIVA_148.0    0.000287\n",
       "UAD_COD_UNIDADE_ADMINISTRATIVA_153.0    0.000000\n",
       "UAD_COD_UNIDADE_ADMINISTRATIVA_158.0    0.000034\n",
       "UAD_COD_UNIDADE_ADMINISTRATIVA_473.0    0.001519\n",
       "OUTvidaHidrometro                       0.000000"
      ]
     },
     "execution_count": 12,
     "metadata": {},
     "output_type": "execute_result"
    }
   ],
   "source": [
    "feat = df.drop(columns='status').keys()\n",
    "feat_labels = feat.get_values()\n",
    "pd.DataFrame(randomForest.feature_importances_, feat_labels, columns=['importance'])"
   ]
  },
  {
   "cell_type": "code",
   "execution_count": 15,
   "metadata": {},
   "outputs": [
    {
     "data": {
      "text/plain": [
       "<matplotlib.axes._subplots.AxesSubplot at 0x7f0428d1f7b8>"
      ]
     },
     "execution_count": 15,
     "metadata": {},
     "output_type": "execute_result"
    },
    {
     "data": {
      "image/png": "[encoded data removed]",
      "text/plain": [
       "<Figure size 432x288 with 1 Axes>"
      ]
     },
     "metadata": {},
     "output_type": "display_data"
    }
   ],
   "source": [
    "df.CVProcessado.plot.box()"
   ]
  },
  {
   "cell_type": "code",
   "execution_count": 16,
   "metadata": {},
   "outputs": [
    {
     "data": {
      "text/plain": [
       "count    3976.000000\n",
       "mean        0.523129\n",
       "std         0.373138\n",
       "min         0.000000\n",
       "25%         0.222646\n",
       "50%         0.411458\n",
       "75%         0.749427\n",
       "max         1.493329\n",
       "Name: CVProcessado, dtype: float64"
      ]
     },
     "execution_count": 16,
     "metadata": {},
     "output_type": "execute_result"
    }
   ],
   "source": [
    "df['CVProcessado'].describe()"
   ]
  }
 ],
 "metadata": {
  "kernelspec": {
   "display_name": "Python 3",
   "language": "python",
   "name": "python3"
  },
  "language_info": {
   "codemirror_mode": {
    "name": "ipython",
    "version": 3
   },
   "file_extension": ".py",
   "mimetype": "text/x-python",
   "name": "python",
   "nbconvert_exporter": "python",
   "pygments_lexer": "ipython3",
   "version": "3.5.2"
  }
 },
 "nbformat": 4,
 "nbformat_minor": 2
}
