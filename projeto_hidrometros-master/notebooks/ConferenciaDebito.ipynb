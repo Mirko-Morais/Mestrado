{
 "cells": [
  {
   "cell_type": "code",
   "execution_count": 71,
   "metadata": {},
   "outputs": [],
   "source": [
    "import pandas as pd\n",
    "import numpy as np\n",
    "import matplotlib.pyplot as plt\n",
    "import seaborn as sns\n",
    "import sqlite3 as sql\n",
    "plt.style.use('fivethirtyeight')\n",
    "pd.options.display.float_format = '{:,.2f}'.format"
   ]
  },
  {
   "cell_type": "code",
   "execution_count": 86,
   "metadata": {},
   "outputs": [],
   "source": [
    "df_sic = pd.read_csv('../data/DEBITO_SIC.csv', decimal=',', thousands='.',\n",
    "                    names=['Fatura','Tipo','ID','Valor'], skiprows=1)\n",
    "df_vertica = pd.read_csv('../data/DEBITO_VERTICA.csv', decimal=',', thousands='.',\n",
    "                        names=['Fatura','Tipo','ID','Valor'], skiprows=1)"
   ]
  },
  {
   "cell_type": "code",
   "execution_count": 87,
   "metadata": {},
   "outputs": [],
   "source": [
    "df_mrg = pd.merge(df_vertica, df_sic,how='left', \n",
    "                  on=\"Fatura\", suffixes=('_sei', '_sic'))"
   ]
  },
  {
   "cell_type": "code",
   "execution_count": 89,
   "metadata": {},
   "outputs": [],
   "source": [
    "df_mrg['Valor_sei'] = df_mrg['Valor_sei'].replace(np.nan , 0)\n",
    "df_mrg['Valor_sic'] = df_mrg['Valor_sic'].replace(np.nan , 0)\n",
    "df_mrg['diferenca'] = df_mrg['Valor_sei'] - df_mrg['Valor_sic']"
   ]
  },
  {
   "cell_type": "code",
   "execution_count": 90,
   "metadata": {},
   "outputs": [
    {
     "data": {
      "text/plain": [
       "442.9599999999999"
      ]
     },
     "execution_count": 90,
     "metadata": {},
     "output_type": "execute_result"
    }
   ],
   "source": [
    "sum(df_mrg['diferenca'])"
   ]
  },
  {
   "cell_type": "code",
   "execution_count": 93,
   "metadata": {},
   "outputs": [],
   "source": [
    "df_mrg[df_mrg['diferenca'] != 0].to_csv('Divergencias_sei_sic.csv')"
   ]
  },
  {
   "cell_type": "markdown",
   "metadata": {},
   "source": [
    "## CONSULTAS "
   ]
  },
  {
   "cell_type": "markdown",
   "metadata": {},
   "source": [
    "```sql\n",
    "-------------------------------------------------\n",
    "-------------------------------------------------\n",
    "-- CONFERENCIA PRAX\n",
    "-- VALOR DE DEBITO PARA COMPARAÇÃO\n",
    "-------------------------------------------------\n",
    "-------------------------------------------------\n",
    "SELECT\n",
    "\tfat_seq_fatura,\n",
    "\tCASE\n",
    "\t\tWHEN con_seq_contrato is null and cli_seq_cliente is not null \n",
    "\t\t\tTHEN 'CLIENTE'\n",
    "\t\tWHEN con_seq_contrato is not null \n",
    "\t\t\tTHEN 'CONTRATO'\n",
    "\t\tELSE 'VERIFICAR'\n",
    "\tEND AS tipo_debito,\n",
    "\tCASE\n",
    "\t\tWHEN con_seq_contrato is null and cli_seq_cliente is not null \n",
    "\t\t\tTHEN cli_seq_cliente\n",
    "\t\tWHEN con_seq_contrato is not null \n",
    "\t\t\tTHEN con_seq_contrato\n",
    "\t\tELSE 0\n",
    "\tEND AS id_cli_contrato,\n",
    "\tsum(VLR_ITEM_FATURA) VLR_ITEM_FATURA\n",
    "FROM \n",
    "\tdbo.BASE_DEBITOS_PRAX\n",
    "group by \n",
    "\tfat_seq_fatura,\n",
    "\tcon_seq_contrato,\n",
    "\tcli_seq_cliente\n",
    "order by \n",
    "\tfat_seq_fatura;\n",
    "```"
   ]
  },
  {
   "cell_type": "markdown",
   "metadata": {},
   "source": [
    "```sql\n",
    "-------------------------------------------------\n",
    "-------------------------------------------------\n",
    "-- CONFERENCIA FATO\n",
    "-- VALOR DE DEBITO PARA COMPARAÇÃO\n",
    "-------------------------------------------------\n",
    "-------------------------------------------------\n",
    "SELECT\n",
    "\tfat_seq_fatura,\n",
    "\tCASE\n",
    "\t\tWHEN con_seq_contrato is null and cli_seq_cliente is not null \n",
    "\t\t\tTHEN 'CLIENTE'\n",
    "\t\tWHEN con_seq_contrato is not null \n",
    "\t\t\tTHEN 'CONTRATO'\n",
    "\t\tELSE 'VERIFICAR'\n",
    "\tEND AS tipo_debito,\n",
    "\tCASE\n",
    "\t\tWHEN con_seq_contrato is null and cli_seq_cliente is not null \n",
    "\t\t\tTHEN cli_seq_cliente\n",
    "\t\tWHEN con_seq_contrato is not null \n",
    "\t\t\tTHEN con_seq_contrato\n",
    "\t\tELSE 0\n",
    "\tEND AS id_cli_contrato,\n",
    "\tsum(vlr_debito_item_fatura)\n",
    "FROM \n",
    "\tdw.fat_deb_debito_diario\n",
    "group by \n",
    "\tfat_seq_fatura,\n",
    "\tcon_seq_contrato,\n",
    "\tcli_seq_cliente\n",
    "order by \n",
    "\tfat_seq_fatura\n",
    "```"
   ]
  }
 ],
 "metadata": {
  "kernelspec": {
   "display_name": "Python 3",
   "language": "python",
   "name": "python3"
  },
  "language_info": {
   "codemirror_mode": {
    "name": "ipython",
    "version": 3
   },
   "file_extension": ".py",
   "mimetype": "text/x-python",
   "name": "python",
   "nbconvert_exporter": "python",
   "pygments_lexer": "ipython3",
   "version": "3.5.2"
  }
 },
 "nbformat": 4,
 "nbformat_minor": 2
}
