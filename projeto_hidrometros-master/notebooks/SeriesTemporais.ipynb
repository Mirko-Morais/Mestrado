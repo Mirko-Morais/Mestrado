{
 "cells": [
  {
   "cell_type": "markdown",
   "metadata": {},
   "source": [
    "# SERIES TEMPORAIS | Decomposição "
   ]
  },
  {
   "cell_type": "code",
   "execution_count": 5,
   "metadata": {},
   "outputs": [],
   "source": [
    "from statsmodels.tsa.seasonal import seasonal_decompose\n",
    "from numpy import isnan\n",
    "\n",
    "def trendserie(serie, freq=6):\n",
    "    \"\"\"\n",
    "    returns the percentual variation between min and max of trend.\n",
    "    \n",
    "    require :\n",
    "        from numpy import isnan\n",
    "        from statsmodels.tsa.seasonal import seasonal_decompose\n",
    "\n",
    "    Example : \n",
    "    trendserie([10,11,15,11,13,4,11,12,16,12,14,11,10,11,15,11,13,4,11,12,16,12,14,11])\n",
    "    0.14569536423841078\n",
    "    \n",
    "    \n",
    "    \"\"\"\n",
    "    t = seasonal_decompose(serie, freq=freq).trend\n",
    "    notna = t[~np.isnan(t)]\n",
    "    return (notna[-1]/notna[0])-1"
   ]
  },
  {
   "cell_type": "code",
   "execution_count": 2,
   "metadata": {},
   "outputs": [],
   "source": [
    "import pandas as pd\n",
    "import numpy as np\n",
    "import matplotlib.pylab as plt\n",
    "from statsmodels.tsa.seasonal import seasonal_decompose\n",
    "from numpy import isnan"
   ]
  },
  {
   "cell_type": "code",
   "execution_count": null,
   "metadata": {},
   "outputs": [],
   "source": [
    "dateparse = lambda dates: pd.datetime.strptime(dates, '%Y-%m')\n",
    "base = pd.read_csv('../data/AirPassengers.csv', parse_dates = ['Month'],\n",
    "                   index_col = 'Month', date_parser = dateparse)\n",
    "ts = base['#Passengers']"
   ]
  },
  {
   "cell_type": "code",
   "execution_count": null,
   "metadata": {},
   "outputs": [],
   "source": [
    "decomposicao = seasonal_decompose(ts)\n",
    "tendencia = decomposicao.trend\n",
    "sazonal = decomposicao.seasonal\n",
    "aleatorio = decomposicao.resid"
   ]
  },
  {
   "cell_type": "code",
   "execution_count": 9,
   "metadata": {},
   "outputs": [
    {
     "data": {
      "text/plain": [
       "[<matplotlib.lines.Line2D at 0x7f0998fe1da0>]"
      ]
     },
     "execution_count": 9,
     "metadata": {},
     "output_type": "execute_result"
    },
    {
     "data": {
      "image/png": "[encoded data removed]",
      "text/plain": [
       "<Figure size 432x288 with 1 Axes>"
      ]
     },
     "metadata": {
      "needs_background": "light"
     },
     "output_type": "display_data"
    }
   ],
   "source": [
    "exemplo = pd.Series([8, 9, 8, 10, 9, 4, 5, 3, 5, 4])\n",
    "\n",
    "decomposicao = seasonal_decompose(exemplo, freq=4)\n",
    "tendencia = decomposicao.trend\n",
    "plt.plot(tendencia)"
   ]
  },
  {
   "cell_type": "code",
   "execution_count": 10,
   "metadata": {},
   "outputs": [
    {
     "data": {
      "text/plain": [
       "-0.29032258064516137"
      ]
     },
     "execution_count": 10,
     "metadata": {},
     "output_type": "execute_result"
    }
   ],
   "source": [
    "trendserie([8, 9, 8, 10, 9, 4, 5, 3, 5, 4], freq=6)"
   ]
  },
  {
   "cell_type": "code",
   "execution_count": null,
   "metadata": {},
   "outputs": [],
   "source": [
    "trendserie([10,11,15,0,13,4,11,12,16,0,14,11,0,0,15,11,13,4,11,12,0,12,0])"
   ]
  },
  {
   "cell_type": "code",
   "execution_count": null,
   "metadata": {},
   "outputs": [],
   "source": [
    "a = pd.Series([10,11,15,11,13,4,11,12,16,12,14,11,10,11,15,11,13,4,11,12,16,12,14,11])\n",
    "decomposicao = seasonal_decompose(a, freq=6)\n",
    "\n",
    "t = seasonal_decompose([10,11,15,11,13,4,11,12,16,12,14,11,10,11,15,11,13,4,11,12,16,12,14,11], freq=6).trend\n",
    "t"
   ]
  },
  {
   "cell_type": "code",
   "execution_count": null,
   "metadata": {},
   "outputs": [],
   "source": [
    "plt.plot(sazonal)"
   ]
  },
  {
   "cell_type": "code",
   "execution_count": null,
   "metadata": {},
   "outputs": [],
   "source": [
    "plt.plot(tendencia)"
   ]
  },
  {
   "cell_type": "code",
   "execution_count": null,
   "metadata": {},
   "outputs": [],
   "source": [
    "plt.plot(aleatorio)"
   ]
  },
  {
   "cell_type": "code",
   "execution_count": null,
   "metadata": {},
   "outputs": [],
   "source": [
    "plt.subplot(5,1,1)\n",
    "plt.plot(ts, label = 'Original')\n",
    "plt.legend(loc = 'best')\n",
    "\n",
    "plt.subplot(5,1,2)\n",
    "plt.plot(tendencia, label = 'Tendência')\n",
    "plt.legend(loc = 'best')\n",
    "\n",
    "plt.subplot(5,1,3)\n",
    "plt.plot(sazonal, label = 'Sazonalidade')\n",
    "plt.legend(loc = 'best')\n",
    "\n",
    "plt.subplot(5,1,4)\n",
    "plt.plot(aleatorio, label = 'Aletório')\n",
    "plt.legend(loc = 'best')\n",
    "plt.tight_layout()\n",
    "\n"
   ]
  }
 ],
 "metadata": {
  "kernelspec": {
   "display_name": "Python 3",
   "language": "python",
   "name": "python3"
  },
  "language_info": {
   "codemirror_mode": {
    "name": "ipython",
    "version": 3
   },
   "file_extension": ".py",
   "mimetype": "text/x-python",
   "name": "python",
   "nbconvert_exporter": "python",
   "pygments_lexer": "ipython3",
   "version": "3.5.2"
  }
 },
 "nbformat": 4,
 "nbformat_minor": 2
}
