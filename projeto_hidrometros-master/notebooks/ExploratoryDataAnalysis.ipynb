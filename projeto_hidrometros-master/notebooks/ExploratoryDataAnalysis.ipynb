{
 "cells": [
  {
   "cell_type": "markdown",
   "metadata": {},
   "source": [
    "#  > EDA - PROJETO HIDROMETROS\n",
    "\n",
    "### **Solução proposta**\n",
    "#### _Modelo que defina o momento ideal de troca do hidrometro levando em consideração a perda de eficiência e a possível mudança de faixa._\n",
    "\n",
    "### **Variáveis que influenciam a vida útil**\n",
    "1. ####  Pressão da rede\n",
    "2. #### Volume medido durante a vida\n",
    "3. #### Marca\n",
    "4. #### Capacidade \n",
    "5. #### Qualidade da agua da rede\n",
    "6. #### Recondicionamento\n",
    "\n",
    "### **Datasets**\n",
    "1. #### Hidrometros (PRAX).\n",
    "2. #### Analises de conformidade (PEA) (Xls)\n",
    "\n",
    "### ** Observações **\n",
    "- #### Normativa do inmetro recomenda aferições/regulagens no periodo de 5 anos.\n",
    "- #### Hidrometros com mais de 10 anos de idade são descartados automáticamente.\n",
    "- #### Análise de perda aplicando perfil de consumo baseado na ABNT NBR 15538 e erros de medição verificados através do serviço 070.\n"
   ]
  },
  {
   "cell_type": "markdown",
   "metadata": {},
   "source": [
    "```sql\n",
    "-- MEDICOES 2018\n",
    "SELECT \n",
    "\tMED.MED_NUM_MEDIDOR, \n",
    "\tMED.MED_NUM_SEQ_MEDIDOR,\n",
    "\tMED.MED_DAT_CADASTRO_MEDIDOR,\n",
    "\tMED.MAR_SEQ_MARCA,\n",
    "\tMED.ILM_SEQ_ITEM_LOTE_MEDIDOR,\n",
    "\tMED.MED_STA_MEDIDOR,\n",
    "\tMED.ESM_SEQ_ESPECIFICACAO_MEDIDOR,\n",
    "\tINS.INS_DAT_INSTALACAO_MEDIDOR,\n",
    "\tINS.INS_DAT_RETIRADA_MEDIDOR,\n",
    "\tMDC.MED_NUM_LEITURA_CAMPO_ANT,\n",
    "\tMDC.MED_NUM_LEITURA_PROC_ANT,\n",
    "\tMDC.MED_NUM_LEITURA_CAMPO_ATUAL,\n",
    "\tMDC.MED_NUM_LEITURA_PROC_ATUAL,\n",
    "\tMDC.MED_DAT_LEITURA,\n",
    "\tMDC.OCL_SEQ_OCORRENCIA_CAMPO,\n",
    "\tLIG.IMO_COD_INSCRICAO,\n",
    "\tLIG.PRO_SEQ_PRODUTO\n",
    "FROM MED_MEDICAO MDC\n",
    "JOIN INS_INSTALACAO  INS \tUSING (INS_SEQ_INSTALACAO)\n",
    "JOIN MED_MEDIDOR MED \t\tUSING (MED_SEQ_MEDIDOR)\n",
    "JOIN LIG_LIGACAO LIG \t\tUSING(LIG_SEQ_LIGACAO)\n",
    "WHERE MED_CPT_MEDICAO BETWEEN 201801 AND 201812;\n",
    "```"
   ]
  },
  {
   "cell_type": "markdown",
   "metadata": {},
   "source": [
    ">Um medidor (med_medidor) esta associado a uma ou mais ligacoes (lig_ligacao)  das quais possuem uma ou mais instalações (ins_instalacao) que por sua vez possuem uma ou mais medicoes(med_medicao)"
   ]
  },
  {
   "cell_type": "markdown",
   "metadata": {},
   "source": [
    "## FUNÇÕES"
   ]
  },
  {
   "cell_type": "markdown",
   "metadata": {},
   "source": [
    "## IMPORTS / CONFIGS"
   ]
  },
  {
   "cell_type": "code",
   "execution_count": 1,
   "metadata": {},
   "outputs": [],
   "source": [
    "'''%whos DataFrame'''\n",
    "import warnings ; warnings.filterwarnings(\"ignore\", category=RuntimeWarning) \n",
    "import sys ; sys.path.append('../scripts')\n",
    "import pdmunging as pdm\n",
    "import eda_hidrometros as eda"
   ]
  },
  {
   "cell_type": "code",
   "execution_count": 2,
   "metadata": {},
   "outputs": [],
   "source": [
    "from pandas import merge as pdmerge\n",
    "from pandas.io.parsers import read_csv\n",
    "import operator\n",
    "import numpy as np\n",
    "import matplotlib.pyplot as plt\n",
    "import seaborn as sns\n",
    "import sqlite3 as sql\n",
    "\n",
    "\n",
    "# only on explore\n",
    "import pandas as pd\n",
    "pd.options.display.float_format = '{:,.2f}'.format\n",
    "plt.style.use('fivethirtyeight')\n",
    "pd.set_option('mode.chained_assignment', None)\n",
    "pd.set_option('display.max_rows', 200)\n",
    "pd.set_option('display.max_columns', 500)\n",
    "pd.set_option('display.width', 1000)"
   ]
  },
  {
   "cell_type": "markdown",
   "metadata": {},
   "source": [
    "## LOAD"
   ]
  },
  {
   "cell_type": "code",
   "execution_count": 30,
   "metadata": {},
   "outputs": [],
   "source": [
    "df_substituicoes = read_csv('../data/dataset_substituicoes_2017_AMOSTRA1.csv', \n",
    "                            parse_dates=['REL_DAT_SUBSTITUICAO', 'REL_DAT_INS_ANTERIOR', 'REL_DAT_INSTALACAO'])\n",
    "df_servico_70 = read_csv('../data/serv70_2018.csv',decimal=',', thousands='.',\\\n",
    "                    names=['UN','dataVerificacao','IDHidrometro','dataInstalacao', 'Qn', \\\n",
    "                           'Qt', 'Qmin', 'status', 'tipoReprovacao', 'Impedimento'], skiprows=1,\\\n",
    "                        parse_dates=['dataVerificacao', 'dataInstalacao'])\n",
    "df_historico_hidrometros = read_csv('../data/tipo_lote_hidrometro.csv',parse_dates=['LOM_DAT_FECHAMENTO_LOTE'])\n",
    "df_elevacoes = read_csv('../data/elevacao.csv')"
   ]
  },
  {
   "cell_type": "code",
   "execution_count": null,
   "metadata": {},
   "outputs": [],
   "source": [
    "# exportar dados para coletar medições dos hidrometros do serviço 70\n",
    "df_servico_70['dataVerificacaoINI'] = df_servico_70['dataVerificacao'] - pd.DateOffset(months=25)\n",
    "df_servico_70[['dataVerificacao', 'dataVerificacaoINI', 'IDHidrometro']]\\\n",
    "    .to_csv('../data/PeriodoPorHidrometro.csv', index=False, date_format='%Y%m')"
   ]
  },
  {
   "cell_type": "code",
   "execution_count": 31,
   "metadata": {},
   "outputs": [],
   "source": [
    "# Leitura do dataset gerado no etl\n",
    "colunas_leitura = ['MED_NUM_SEQ_MEDIDOR','MED_NUM_MEDIDOR','MED_DAT_CADASTRO_MEDIDOR','MAR_SEQ_MARCA',\\\n",
    "           'ILM_SEQ_ITEM_LOTE_MEDIDOR','MED_STA_MEDIDOR','ESM_SEQ_ESPECIFICACAO_MEDIDOR',\\\n",
    "           'INS_DAT_INSTALACAO_MEDIDOR','INS_DAT_RETIRADA_MEDIDOR','MED_NUM_LEITURA_CAMPO_ANT',\\\n",
    "           'MED_NUM_LEITURA_PROC_ANT','MED_NUM_LEITURA_CAMPO_ATUAL','MED_NUM_LEITURA_PROC_ATUAL',\\\n",
    "           'MED_DAT_LEITURA','OCL_SEQ_OCORRENCIA_CAMPO','IMO_COD_INSCRICAO','PRO_SEQ_PRODUTO', 'QTD_INSTALACOES']\n",
    "\n",
    "df_leitura = read_csv('../data/DATASET_ETL_MEDICOES.csv', names=colunas_leitura, low_memory=False, \\\n",
    "                      parse_dates=['MED_DAT_CADASTRO_MEDIDOR','INS_DAT_INSTALACAO_MEDIDOR',\\\n",
    "                                   'INS_DAT_RETIRADA_MEDIDOR','MED_DAT_LEITURA'], \\\n",
    "                      decimal='.', thousands=',')"
   ]
  },
  {
   "cell_type": "code",
   "execution_count": null,
   "metadata": {},
   "outputs": [],
   "source": [
    "# exportar dados para coletar dados dos imoveis\n",
    "df_leitura['IMO_COD_INSCRICAO'].drop_duplicates(keep='first').to_csv('../data/ImoveisNoPeriodo.csv', index=False)"
   ]
  },
  {
   "cell_type": "code",
   "execution_count": 32,
   "metadata": {},
   "outputs": [],
   "source": [
    "# Leitura do dataset gerado no etl\n",
    "colunas_imovel = ['IMO_COD_INSCRICAO','IMO_QTD_PONTOS_UTILIZACAO','PIM_SEQ_PADRAO_IMOVEL',\\\n",
    "                  'IMO_QTD_AREA_COBERTA','TIC_SEQ_TIP_CONSTRUCAO','UAD_COD_UNIDADE_ADMINISTRATIVA',\\\n",
    "                  'SET_TIP_SETOR']\n",
    "df_imovel = read_csv('../data/DATASET_ETL_IMOVEIS.csv', names=colunas_imovel)"
   ]
  },
  {
   "cell_type": "markdown",
   "metadata": {},
   "source": [
    "## PIPELINE"
   ]
  },
  {
   "cell_type": "code",
   "execution_count": 33,
   "metadata": {},
   "outputs": [
    {
     "name": "stdout",
     "output_type": "stream",
     "text": [
      "-\n"
     ]
    }
   ],
   "source": [
    "df_historico_hidrometros.pipe(eda.TipoHidrometroMap, col='LOM_COD_TIPO_LOTE')\n",
    "\n",
    "df_servico_70.pipe(eda.RemoveEspaco, col='IDHidrometro', value='')\\\n",
    "             .pipe(eda.CalculaPerda,  cols=['Qt', 'Qmin', 'Qn'], factors=[0.7403, 0.1838, 0.0759], colName='Perda' )\n",
    "\n",
    "df_servico_70 = df_servico_70[df_servico_70['Impedimento'].isna()]\n",
    "print('-')"
   ]
  },
  {
   "cell_type": "code",
   "execution_count": 34,
   "metadata": {},
   "outputs": [
    {
     "name": "stdout",
     "output_type": "stream",
     "text": [
      "-\n"
     ]
    }
   ],
   "source": [
    "df_leitura.pipe(eda.RelacionaColuna, colName='IDHidrometro', col1=df_leitura['MED_NUM_MEDIDOR'].astype(object), \\\n",
    "              col2=df_leitura['MED_NUM_SEQ_MEDIDOR'].astype(str), operador=operator.concat)\\\n",
    "        .pipe(eda.AnoMedidorLacre, col='MED_NUM_MEDIDOR', colName='MED_ANO_MEDIDOR')\\\n",
    "        .pipe(eda.RelacionaColuna, colName='ConsumoProcessado', col1=df_leitura.MED_NUM_LEITURA_PROC_ATUAL, \\\n",
    "              col2=df_leitura.MED_NUM_LEITURA_PROC_ANT, operador=operator.sub)\\\n",
    "        .pipe(eda.RelacionaColuna, colName='ConsumoMedido', col1=df_leitura.MED_NUM_LEITURA_CAMPO_ATUAL, \\\n",
    "              col2=df_leitura.MED_NUM_LEITURA_CAMPO_ANT, operador=operator.sub)\\\n",
    "        .pipe(eda.TrataNegativos, col='ConsumoProcessado', use=np.nan)\\\n",
    "        .pipe(eda.ColunaTransformada,  colName='MedianaProcessado', groupby='IDHidrometro', \\\n",
    "              col='ConsumoProcessado', operation='median')\\\n",
    "        .pipe(eda.ColunaTransformada,  colName='QtdMedicoes', groupby='MED_NUM_SEQ_MEDIDOR', \\\n",
    "              col='IMO_COD_INSCRICAO', operation='count')\\\n",
    "        .pipe(eda.ColunaTransformada,  colName='MediaProcessado', groupby='IDHidrometro', \\\n",
    "              col='ConsumoProcessado', operation='mean')\\\n",
    "        .pipe(eda.ColunaTransformada,  colName='DesvioPadraoProcessado', groupby='IDHidrometro', \\\n",
    "              col='ConsumoProcessado', operation='std')\\\n",
    "        .pipe(eda.RelacionaColuna, colName='CVProcessado', col1=df_leitura.DesvioPadraoProcessado, \\\n",
    "              col2=df_leitura.MediaProcessado, operador=operator.truediv)\\\n",
    "        .pipe(eda.AplicaFuncao, colName='isOcorrencia', col='OCL_SEQ_OCORRENCIA_CAMPO',\\\n",
    "              funcao = lambda x: 1 if x > 0 else 0 )\\\n",
    "        .pipe(eda.ColunaTransformada,  colName='QtdOcorrencias', groupby='IDHidrometro', \\\n",
    "              col='isOcorrencia', operation='sum')\\\n",
    "        .pipe(eda.ColunaTransformada,  colName='variacaoTendencia', groupby='IDHidrometro', \\\n",
    "              col='ConsumoProcessado', operation=eda.trendserie)\n",
    "print('-')"
   ]
  },
  {
   "cell_type": "code",
   "execution_count": 35,
   "metadata": {},
   "outputs": [],
   "source": [
    "colunas_analise = ['IDHidrometro','MED_ANO_MEDIDOR', 'IMO_COD_INSCRICAO', 'MAR_SEQ_MARCA', \\\n",
    "                   'ESM_SEQ_ESPECIFICACAO_MEDIDOR','MedianaProcessado', 'MediaProcessado', \\\n",
    "                   'DesvioPadraoProcessado','CVProcessado', 'QtdOcorrencias', 'INS_DAT_INSTALACAO_MEDIDOR', 'QtdMedicoes', 'QTD_INSTALACOES', 'variacaoTendencia']\n",
    "df_leitura = df_leitura[colunas_analise].drop_duplicates(keep='first')"
   ]
  },
  {
   "cell_type": "code",
   "execution_count": 36,
   "metadata": {},
   "outputs": [],
   "source": [
    "df = pdmerge(df_servico_70, df_leitura, how='left', \\\n",
    "             on=\"IDHidrometro\", suffixes=('_srv70', '_medicao'))\n",
    "df = pdmerge(df, df_imovel, how='left', \\\n",
    "             on=\"IMO_COD_INSCRICAO\", suffixes=('_df', '_imovel'))"
   ]
  },
  {
   "cell_type": "code",
   "execution_count": 37,
   "metadata": {},
   "outputs": [
    {
     "name": "stdout",
     "output_type": "stream",
     "text": [
      "-\n"
     ]
    }
   ],
   "source": [
    "df.pipe(eda.TrataNA, col='dataInstalacao', use=df['INS_DAT_INSTALACAO_MEDIDOR'])\\\n",
    "  .pipe(eda.Recorta, col='status' , start_position=0, end_position=2)\\\n",
    "  .pipe(eda.AplicaFuncao, colName='anoInstalacao', col='dataInstalacao',\\\n",
    "              funcao = lambda x: pd.Timestamp(x).year )\\\n",
    "  .pipe(eda.AplicaFuncao, colName='anoRetirada', col='dataVerificacao',\\\n",
    "              funcao = lambda x: pd.Timestamp(x).year )\\\n",
    "  .pipe(eda.RelacionaColuna, colName='vidaInstalacao', col1=df['anoRetirada'], \\\n",
    "              col2=df['anoInstalacao'], operador=operator.sub)\\\n",
    "  .pipe(eda.RelacionaColuna, colName='vidaHidrometro', col1=df['anoRetirada'], \\\n",
    "              col2=df['MED_ANO_MEDIDOR'], operador=operator.sub)\\\n",
    "  .pipe(eda.setOutlier, 'CVProcessado', 'outCV')\\\n",
    "  .pipe(eda.setOutlier, 'variacaoTendencia', 'outVarTend')\n",
    "print('-')"
   ]
  },
  {
   "cell_type": "code",
   "execution_count": 38,
   "metadata": {},
   "outputs": [],
   "source": [
    "remover_do_df = ['UN', 'dataVerificacao', 'IDHidrometro', 'dataInstalacao', 'Qn', 'Qt', 'Qmin', \\\n",
    "                 'tipoReprovacao', 'Impedimento', 'Perda', 'MED_ANO_MEDIDOR', 'IMO_COD_INSCRICAO', \\\n",
    "                 'INS_DAT_INSTALACAO_MEDIDOR','SET_TIP_SETOR', 'anoInstalacao', 'anoRetirada', \\\n",
    "                'TIC_SEQ_TIP_CONSTRUCAO', 'IMO_QTD_AREA_COBERTA', 'DesvioPadraoProcessado', \\\n",
    "                 'MediaProcessado', 'MedianaProcessado' ]\n",
    "df.drop(columns=remover_do_df, inplace=True)\n",
    "\n",
    "aplicar_onehotencoding = ['MAR_SEQ_MARCA','ESM_SEQ_ESPECIFICACAO_MEDIDOR', 'PIM_SEQ_PADRAO_IMOVEL', \\\n",
    "                         'UAD_COD_UNIDADE_ADMINISTRATIVA']\n",
    "for categoria in aplicar_onehotencoding:\n",
    "    df = pdm.set_onehotencoding(df, categoria, categoria)\n",
    "\n",
    "df.dropna(inplace=True)\n",
    "\n",
    "selected_to_del = df[(df.vidaInstalacao < 5) & (df.status == 'RP') & (df.CVProcessado < 1)& (df.vidaHidrometro < 10)].index\n",
    "df.drop(selected_to_del, inplace=True)\n",
    "df.drop(df[df.QtdMedicoes>14].index, inplace=True)\n",
    "df.drop(df[df['outCV'] ==1].index, inplace=True)\n",
    "df.drop(df[df['outVarTend'] ==1].index, inplace=True)\n",
    "\n",
    "status_map = {'RP': 0, 'AP': 1}\n",
    "df['status'] = df['status'].map(status_map)\n",
    "#df['status'].value_counts()\n",
    "#df[df.QtdMedicoes>14].info()"
   ]
  },
  {
   "cell_type": "code",
   "execution_count": 39,
   "metadata": {},
   "outputs": [],
   "source": [
    "df.to_csv('../data/train_hidrometros.csv', index=False)"
   ]
  },
  {
   "cell_type": "markdown",
   "metadata": {},
   "source": [
    "```python\n",
    "#code for profilling of df\n",
    "import matplotlib.pyplot as plt\n",
    "import pandas_profiling as pf\n",
    "df_to_proffiling = df[['CVProcessado', 'QtdOcorrencias','QtdMedicoes','QTD_INSTALACOES',\\\n",
    "                       'IMO_QTD_PONTOS_UTILIZACAO', 'vidaInstalacao', 'vidaHidrometro']]\n",
    "pf.ProfileReport(df_to_proffiling)\n",
    "```"
   ]
  }
 ],
 "metadata": {
  "kernelspec": {
   "display_name": "Python 3",
   "language": "python",
   "name": "python3"
  },
  "language_info": {
   "codemirror_mode": {
    "name": "ipython",
    "version": 3
   },
   "file_extension": ".py",
   "mimetype": "text/x-python",
   "name": "python",
   "nbconvert_exporter": "python",
   "pygments_lexer": "ipython3",
   "version": "3.5.2"
  }
 },
 "nbformat": 4,
 "nbformat_minor": 2
}
